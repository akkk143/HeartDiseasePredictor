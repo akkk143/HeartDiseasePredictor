{
 "cells": [
  {
   "cell_type": "markdown",
   "metadata": {},
   "source": [
    "# List of available Features in Dataset:"
   ]
  },
  {
   "cell_type": "markdown",
   "metadata": {},
   "source": [
    "1. age: continuous\n",
    "2. sex: categorical, 2 values {0: female, 1: male}\n",
    "3. cp (chest pain type): categorical, 4 values{1: typical angina, 2: atypical angina, 3: non-angina, 4: asymptomatic angina}\n",
    "4. restbp (resting blood pressure on admission to hospital): continuous (mmHg)\n",
    "5. chol (serum cholesterol level): continuous (mg/dl)\n",
    "6. fbs (fasting blood sugar): categorical, 2 values {0: <= 120 mg/dl, 1: > 120 mg/dl}\n",
    "7. restecg (resting electrocardiography): categorical, 3 values{0: normal, 1: ST-T wave abnormality, 2: left ventricular hypertrophy}\n",
    "8. thalach (maximum heart rate achieved): continuous\n",
    "9. exang (exercise induced angina): categorical, 2 values {0: no, 1: yes}\n",
    "10. oldpeak (ST depression induced by exercise relative to rest): continuous\n",
    "11. slope (slope of peak exercise ST segment): categorical, 3 values {1: upsloping, 2: flat, 3: downsloping}\n",
    "12. ca (number of major vessels colored by fluoroscopy): discrete (0,1,2,3)\n",
    "13. thal: categorical, 3 values {3: normal, 6: fixed defect, 7: reversible defect}\n",
    "14. num (diagnosis of heart disease): categorical, 5 values {0: less than 50% narrowing in any major vessel, 1-4: more than 50% narrowing in 1-4 vessels}\n",
    "    \n",
    "The actual number of feature variables (after converting categorical variables\n",
    "to dummy ones) is: \n",
    "1 (age) + 1 (sex) + 3 (cp) + 1 (restbp) + 1 (chol) + 1 (fbs) + 2 (restecg) + \n",
    "1 (thalach) + 1 (exang) + 1 (oldpeak) + 2 (slope) + 1 (ca) + 2 (thal) = 18\n",
    "\n",
    "The response variable (num) is categorical with 5 values, but we don't have\n",
    "enough data to predict all the categories. Therefore we'll replace num with:\n",
    "14. hd (heart disease): categorical, 2 values {0: no, 1: yes}"
   ]
  },
  {
   "cell_type": "markdown",
   "metadata": {},
   "source": [
    "# Importing important libraries"
   ]
  },
  {
   "cell_type": "code",
   "execution_count": 2,
   "metadata": {},
   "outputs": [],
   "source": [
    "import numpy as np\n",
    "import urllib\n",
    "import matplotlib.pyplot as plt\n",
    "\n",
    "import pandas as pd\n",
    "from sklearn.linear_model import LogisticRegression\n",
    "from sklearn.model_selection import train_test_split\n",
    "\n",
    "from sklearn.metrics import accuracy_score\n",
    "from sklearn.tree import DecisionTreeClassifier\n",
    "from sklearn.neighbors import KNeighborsClassifier \n",
    "\n",
    "from sklearn.tree import tree \n",
    "from sklearn.ensemble import RandomForestClassifier \n",
    "\n",
    "from sklearn.naive_bayes import GaussianNB\n",
    "from sklearn.metrics import classification_report , confusion_matrix\n",
    "\n",
    "from sklearn.metrics import roc_curve \n",
    "from sklearn.metrics import auc  \n",
    "from urllib.request import urlopen    # This is for Getting data from URL\n",
    "from sklearn.model_selection import cross_val_score\n",
    "from collections import Counter\n",
    "from sklearn import svm\n",
    "from sklearn.preprocessing import Imputer\n",
    "from sklearn.preprocessing import StandardScaler\n",
    "from sklearn.pipeline import Pipeline\n",
    "from sklearn.model_selection import cross_val_score"
   ]
  },
  {
   "cell_type": "markdown",
   "metadata": {},
   "source": [
    "#  1. Cleveland Clinic Foundation (cleveland.data)"
   ]
  },
  {
   "cell_type": "code",
   "execution_count": 3,
   "metadata": {},
   "outputs": [
    {
     "data": {
      "text/plain": [
       "(303, 14)"
      ]
     },
     "execution_count": 3,
     "metadata": {},
     "output_type": "execute_result"
    }
   ],
   "source": [
    "Cleveland_data_URL = 'http://archive.ics.uci.edu/ml/machine-learning-databases/heart-disease/processed.cleveland.data'\n",
    "features = ['age', 'sex', 'cp', 'trestbps', 'chol', 'fbs', 'restecg', 'thalach', 'exang', 'oldpeak', 'slope', 'ca', 'thal', 'heartdisease']\n",
    "ClevelandHeartDisease = pd.read_csv(urlopen(Cleveland_data_URL),names = features)        #gets Cleveland data\n",
    "ClevelandHeartDisease.shape"
   ]
  },
  {
   "cell_type": "markdown",
   "metadata": {},
   "source": [
    "# 2. Hungarian Institute of Cardiology, Budapest (hungarian.data)"
   ]
  },
  {
   "cell_type": "code",
   "execution_count": 4,
   "metadata": {},
   "outputs": [
    {
     "data": {
      "text/html": [
       "<div>\n",
       "<style scoped>\n",
       "    .dataframe tbody tr th:only-of-type {\n",
       "        vertical-align: middle;\n",
       "    }\n",
       "\n",
       "    .dataframe tbody tr th {\n",
       "        vertical-align: top;\n",
       "    }\n",
       "\n",
       "    .dataframe thead th {\n",
       "        text-align: right;\n",
       "    }\n",
       "</style>\n",
       "<table border=\"1\" class=\"dataframe\">\n",
       "  <thead>\n",
       "    <tr style=\"text-align: right;\">\n",
       "      <th></th>\n",
       "      <th>age</th>\n",
       "      <th>sex</th>\n",
       "      <th>cp</th>\n",
       "      <th>trestbps</th>\n",
       "      <th>chol</th>\n",
       "      <th>fbs</th>\n",
       "      <th>restecg</th>\n",
       "      <th>thalach</th>\n",
       "      <th>exang</th>\n",
       "      <th>oldpeak</th>\n",
       "      <th>slope</th>\n",
       "      <th>ca</th>\n",
       "      <th>thal</th>\n",
       "      <th>heartdisease</th>\n",
       "    </tr>\n",
       "  </thead>\n",
       "  <tbody>\n",
       "    <tr>\n",
       "      <th>0</th>\n",
       "      <td>28</td>\n",
       "      <td>1</td>\n",
       "      <td>2</td>\n",
       "      <td>130</td>\n",
       "      <td>132</td>\n",
       "      <td>0</td>\n",
       "      <td>2</td>\n",
       "      <td>185</td>\n",
       "      <td>0</td>\n",
       "      <td>0.0</td>\n",
       "      <td>?</td>\n",
       "      <td>?</td>\n",
       "      <td>?</td>\n",
       "      <td>0</td>\n",
       "    </tr>\n",
       "    <tr>\n",
       "      <th>1</th>\n",
       "      <td>29</td>\n",
       "      <td>1</td>\n",
       "      <td>2</td>\n",
       "      <td>120</td>\n",
       "      <td>243</td>\n",
       "      <td>0</td>\n",
       "      <td>0</td>\n",
       "      <td>160</td>\n",
       "      <td>0</td>\n",
       "      <td>0.0</td>\n",
       "      <td>?</td>\n",
       "      <td>?</td>\n",
       "      <td>?</td>\n",
       "      <td>0</td>\n",
       "    </tr>\n",
       "    <tr>\n",
       "      <th>2</th>\n",
       "      <td>29</td>\n",
       "      <td>1</td>\n",
       "      <td>2</td>\n",
       "      <td>140</td>\n",
       "      <td>?</td>\n",
       "      <td>0</td>\n",
       "      <td>0</td>\n",
       "      <td>170</td>\n",
       "      <td>0</td>\n",
       "      <td>0.0</td>\n",
       "      <td>?</td>\n",
       "      <td>?</td>\n",
       "      <td>?</td>\n",
       "      <td>0</td>\n",
       "    </tr>\n",
       "    <tr>\n",
       "      <th>3</th>\n",
       "      <td>30</td>\n",
       "      <td>0</td>\n",
       "      <td>1</td>\n",
       "      <td>170</td>\n",
       "      <td>237</td>\n",
       "      <td>0</td>\n",
       "      <td>1</td>\n",
       "      <td>170</td>\n",
       "      <td>0</td>\n",
       "      <td>0.0</td>\n",
       "      <td>?</td>\n",
       "      <td>?</td>\n",
       "      <td>6</td>\n",
       "      <td>0</td>\n",
       "    </tr>\n",
       "    <tr>\n",
       "      <th>4</th>\n",
       "      <td>31</td>\n",
       "      <td>0</td>\n",
       "      <td>2</td>\n",
       "      <td>100</td>\n",
       "      <td>219</td>\n",
       "      <td>0</td>\n",
       "      <td>1</td>\n",
       "      <td>150</td>\n",
       "      <td>0</td>\n",
       "      <td>0.0</td>\n",
       "      <td>?</td>\n",
       "      <td>?</td>\n",
       "      <td>?</td>\n",
       "      <td>0</td>\n",
       "    </tr>\n",
       "    <tr>\n",
       "      <th>5</th>\n",
       "      <td>32</td>\n",
       "      <td>0</td>\n",
       "      <td>2</td>\n",
       "      <td>105</td>\n",
       "      <td>198</td>\n",
       "      <td>0</td>\n",
       "      <td>0</td>\n",
       "      <td>165</td>\n",
       "      <td>0</td>\n",
       "      <td>0.0</td>\n",
       "      <td>?</td>\n",
       "      <td>?</td>\n",
       "      <td>?</td>\n",
       "      <td>0</td>\n",
       "    </tr>\n",
       "    <tr>\n",
       "      <th>6</th>\n",
       "      <td>32</td>\n",
       "      <td>1</td>\n",
       "      <td>2</td>\n",
       "      <td>110</td>\n",
       "      <td>225</td>\n",
       "      <td>0</td>\n",
       "      <td>0</td>\n",
       "      <td>184</td>\n",
       "      <td>0</td>\n",
       "      <td>0.0</td>\n",
       "      <td>?</td>\n",
       "      <td>?</td>\n",
       "      <td>?</td>\n",
       "      <td>0</td>\n",
       "    </tr>\n",
       "    <tr>\n",
       "      <th>7</th>\n",
       "      <td>32</td>\n",
       "      <td>1</td>\n",
       "      <td>2</td>\n",
       "      <td>125</td>\n",
       "      <td>254</td>\n",
       "      <td>0</td>\n",
       "      <td>0</td>\n",
       "      <td>155</td>\n",
       "      <td>0</td>\n",
       "      <td>0.0</td>\n",
       "      <td>?</td>\n",
       "      <td>?</td>\n",
       "      <td>?</td>\n",
       "      <td>0</td>\n",
       "    </tr>\n",
       "    <tr>\n",
       "      <th>8</th>\n",
       "      <td>33</td>\n",
       "      <td>1</td>\n",
       "      <td>3</td>\n",
       "      <td>120</td>\n",
       "      <td>298</td>\n",
       "      <td>0</td>\n",
       "      <td>0</td>\n",
       "      <td>185</td>\n",
       "      <td>0</td>\n",
       "      <td>0.0</td>\n",
       "      <td>?</td>\n",
       "      <td>?</td>\n",
       "      <td>?</td>\n",
       "      <td>0</td>\n",
       "    </tr>\n",
       "    <tr>\n",
       "      <th>9</th>\n",
       "      <td>34</td>\n",
       "      <td>0</td>\n",
       "      <td>2</td>\n",
       "      <td>130</td>\n",
       "      <td>161</td>\n",
       "      <td>0</td>\n",
       "      <td>0</td>\n",
       "      <td>190</td>\n",
       "      <td>0</td>\n",
       "      <td>0.0</td>\n",
       "      <td>?</td>\n",
       "      <td>?</td>\n",
       "      <td>?</td>\n",
       "      <td>0</td>\n",
       "    </tr>\n",
       "    <tr>\n",
       "      <th>10</th>\n",
       "      <td>34</td>\n",
       "      <td>1</td>\n",
       "      <td>2</td>\n",
       "      <td>150</td>\n",
       "      <td>214</td>\n",
       "      <td>0</td>\n",
       "      <td>1</td>\n",
       "      <td>168</td>\n",
       "      <td>0</td>\n",
       "      <td>0.0</td>\n",
       "      <td>?</td>\n",
       "      <td>?</td>\n",
       "      <td>?</td>\n",
       "      <td>0</td>\n",
       "    </tr>\n",
       "    <tr>\n",
       "      <th>11</th>\n",
       "      <td>34</td>\n",
       "      <td>1</td>\n",
       "      <td>2</td>\n",
       "      <td>98</td>\n",
       "      <td>220</td>\n",
       "      <td>0</td>\n",
       "      <td>0</td>\n",
       "      <td>150</td>\n",
       "      <td>0</td>\n",
       "      <td>0.0</td>\n",
       "      <td>?</td>\n",
       "      <td>?</td>\n",
       "      <td>?</td>\n",
       "      <td>0</td>\n",
       "    </tr>\n",
       "    <tr>\n",
       "      <th>12</th>\n",
       "      <td>35</td>\n",
       "      <td>0</td>\n",
       "      <td>1</td>\n",
       "      <td>120</td>\n",
       "      <td>160</td>\n",
       "      <td>0</td>\n",
       "      <td>1</td>\n",
       "      <td>185</td>\n",
       "      <td>0</td>\n",
       "      <td>0.0</td>\n",
       "      <td>?</td>\n",
       "      <td>?</td>\n",
       "      <td>?</td>\n",
       "      <td>0</td>\n",
       "    </tr>\n",
       "    <tr>\n",
       "      <th>13</th>\n",
       "      <td>35</td>\n",
       "      <td>0</td>\n",
       "      <td>4</td>\n",
       "      <td>140</td>\n",
       "      <td>167</td>\n",
       "      <td>0</td>\n",
       "      <td>0</td>\n",
       "      <td>150</td>\n",
       "      <td>0</td>\n",
       "      <td>0.0</td>\n",
       "      <td>?</td>\n",
       "      <td>?</td>\n",
       "      <td>?</td>\n",
       "      <td>0</td>\n",
       "    </tr>\n",
       "    <tr>\n",
       "      <th>14</th>\n",
       "      <td>35</td>\n",
       "      <td>1</td>\n",
       "      <td>2</td>\n",
       "      <td>120</td>\n",
       "      <td>308</td>\n",
       "      <td>0</td>\n",
       "      <td>2</td>\n",
       "      <td>180</td>\n",
       "      <td>0</td>\n",
       "      <td>0.0</td>\n",
       "      <td>?</td>\n",
       "      <td>?</td>\n",
       "      <td>?</td>\n",
       "      <td>0</td>\n",
       "    </tr>\n",
       "    <tr>\n",
       "      <th>15</th>\n",
       "      <td>35</td>\n",
       "      <td>1</td>\n",
       "      <td>2</td>\n",
       "      <td>150</td>\n",
       "      <td>264</td>\n",
       "      <td>0</td>\n",
       "      <td>0</td>\n",
       "      <td>168</td>\n",
       "      <td>0</td>\n",
       "      <td>0.0</td>\n",
       "      <td>?</td>\n",
       "      <td>?</td>\n",
       "      <td>?</td>\n",
       "      <td>0</td>\n",
       "    </tr>\n",
       "    <tr>\n",
       "      <th>16</th>\n",
       "      <td>36</td>\n",
       "      <td>1</td>\n",
       "      <td>2</td>\n",
       "      <td>120</td>\n",
       "      <td>166</td>\n",
       "      <td>0</td>\n",
       "      <td>0</td>\n",
       "      <td>180</td>\n",
       "      <td>0</td>\n",
       "      <td>0.0</td>\n",
       "      <td>?</td>\n",
       "      <td>?</td>\n",
       "      <td>?</td>\n",
       "      <td>0</td>\n",
       "    </tr>\n",
       "    <tr>\n",
       "      <th>17</th>\n",
       "      <td>36</td>\n",
       "      <td>1</td>\n",
       "      <td>3</td>\n",
       "      <td>112</td>\n",
       "      <td>340</td>\n",
       "      <td>0</td>\n",
       "      <td>0</td>\n",
       "      <td>184</td>\n",
       "      <td>0</td>\n",
       "      <td>1.0</td>\n",
       "      <td>2</td>\n",
       "      <td>?</td>\n",
       "      <td>3</td>\n",
       "      <td>0</td>\n",
       "    </tr>\n",
       "    <tr>\n",
       "      <th>18</th>\n",
       "      <td>36</td>\n",
       "      <td>1</td>\n",
       "      <td>3</td>\n",
       "      <td>130</td>\n",
       "      <td>209</td>\n",
       "      <td>0</td>\n",
       "      <td>0</td>\n",
       "      <td>178</td>\n",
       "      <td>0</td>\n",
       "      <td>0.0</td>\n",
       "      <td>?</td>\n",
       "      <td>?</td>\n",
       "      <td>?</td>\n",
       "      <td>0</td>\n",
       "    </tr>\n",
       "    <tr>\n",
       "      <th>19</th>\n",
       "      <td>36</td>\n",
       "      <td>1</td>\n",
       "      <td>3</td>\n",
       "      <td>150</td>\n",
       "      <td>160</td>\n",
       "      <td>0</td>\n",
       "      <td>0</td>\n",
       "      <td>172</td>\n",
       "      <td>0</td>\n",
       "      <td>0.0</td>\n",
       "      <td>?</td>\n",
       "      <td>?</td>\n",
       "      <td>?</td>\n",
       "      <td>0</td>\n",
       "    </tr>\n",
       "    <tr>\n",
       "      <th>20</th>\n",
       "      <td>37</td>\n",
       "      <td>0</td>\n",
       "      <td>2</td>\n",
       "      <td>120</td>\n",
       "      <td>260</td>\n",
       "      <td>0</td>\n",
       "      <td>0</td>\n",
       "      <td>130</td>\n",
       "      <td>0</td>\n",
       "      <td>0.0</td>\n",
       "      <td>?</td>\n",
       "      <td>?</td>\n",
       "      <td>?</td>\n",
       "      <td>0</td>\n",
       "    </tr>\n",
       "    <tr>\n",
       "      <th>21</th>\n",
       "      <td>37</td>\n",
       "      <td>0</td>\n",
       "      <td>3</td>\n",
       "      <td>130</td>\n",
       "      <td>211</td>\n",
       "      <td>0</td>\n",
       "      <td>0</td>\n",
       "      <td>142</td>\n",
       "      <td>0</td>\n",
       "      <td>0.0</td>\n",
       "      <td>?</td>\n",
       "      <td>?</td>\n",
       "      <td>?</td>\n",
       "      <td>0</td>\n",
       "    </tr>\n",
       "    <tr>\n",
       "      <th>22</th>\n",
       "      <td>37</td>\n",
       "      <td>0</td>\n",
       "      <td>4</td>\n",
       "      <td>130</td>\n",
       "      <td>173</td>\n",
       "      <td>0</td>\n",
       "      <td>1</td>\n",
       "      <td>184</td>\n",
       "      <td>0</td>\n",
       "      <td>0.0</td>\n",
       "      <td>?</td>\n",
       "      <td>?</td>\n",
       "      <td>?</td>\n",
       "      <td>0</td>\n",
       "    </tr>\n",
       "    <tr>\n",
       "      <th>23</th>\n",
       "      <td>37</td>\n",
       "      <td>1</td>\n",
       "      <td>2</td>\n",
       "      <td>130</td>\n",
       "      <td>283</td>\n",
       "      <td>0</td>\n",
       "      <td>1</td>\n",
       "      <td>98</td>\n",
       "      <td>0</td>\n",
       "      <td>0.0</td>\n",
       "      <td>?</td>\n",
       "      <td>?</td>\n",
       "      <td>?</td>\n",
       "      <td>0</td>\n",
       "    </tr>\n",
       "    <tr>\n",
       "      <th>24</th>\n",
       "      <td>37</td>\n",
       "      <td>1</td>\n",
       "      <td>3</td>\n",
       "      <td>130</td>\n",
       "      <td>194</td>\n",
       "      <td>0</td>\n",
       "      <td>0</td>\n",
       "      <td>150</td>\n",
       "      <td>0</td>\n",
       "      <td>0.0</td>\n",
       "      <td>?</td>\n",
       "      <td>?</td>\n",
       "      <td>?</td>\n",
       "      <td>0</td>\n",
       "    </tr>\n",
       "    <tr>\n",
       "      <th>25</th>\n",
       "      <td>37</td>\n",
       "      <td>1</td>\n",
       "      <td>4</td>\n",
       "      <td>120</td>\n",
       "      <td>223</td>\n",
       "      <td>0</td>\n",
       "      <td>0</td>\n",
       "      <td>168</td>\n",
       "      <td>0</td>\n",
       "      <td>0.0</td>\n",
       "      <td>?</td>\n",
       "      <td>?</td>\n",
       "      <td>3</td>\n",
       "      <td>0</td>\n",
       "    </tr>\n",
       "    <tr>\n",
       "      <th>26</th>\n",
       "      <td>37</td>\n",
       "      <td>1</td>\n",
       "      <td>4</td>\n",
       "      <td>130</td>\n",
       "      <td>315</td>\n",
       "      <td>0</td>\n",
       "      <td>0</td>\n",
       "      <td>158</td>\n",
       "      <td>0</td>\n",
       "      <td>0.0</td>\n",
       "      <td>?</td>\n",
       "      <td>?</td>\n",
       "      <td>?</td>\n",
       "      <td>0</td>\n",
       "    </tr>\n",
       "    <tr>\n",
       "      <th>27</th>\n",
       "      <td>38</td>\n",
       "      <td>0</td>\n",
       "      <td>2</td>\n",
       "      <td>120</td>\n",
       "      <td>275</td>\n",
       "      <td>?</td>\n",
       "      <td>0</td>\n",
       "      <td>129</td>\n",
       "      <td>0</td>\n",
       "      <td>0.0</td>\n",
       "      <td>?</td>\n",
       "      <td>?</td>\n",
       "      <td>?</td>\n",
       "      <td>0</td>\n",
       "    </tr>\n",
       "    <tr>\n",
       "      <th>28</th>\n",
       "      <td>38</td>\n",
       "      <td>1</td>\n",
       "      <td>2</td>\n",
       "      <td>140</td>\n",
       "      <td>297</td>\n",
       "      <td>0</td>\n",
       "      <td>0</td>\n",
       "      <td>150</td>\n",
       "      <td>0</td>\n",
       "      <td>0.0</td>\n",
       "      <td>?</td>\n",
       "      <td>?</td>\n",
       "      <td>?</td>\n",
       "      <td>0</td>\n",
       "    </tr>\n",
       "    <tr>\n",
       "      <th>29</th>\n",
       "      <td>38</td>\n",
       "      <td>1</td>\n",
       "      <td>3</td>\n",
       "      <td>145</td>\n",
       "      <td>292</td>\n",
       "      <td>0</td>\n",
       "      <td>0</td>\n",
       "      <td>130</td>\n",
       "      <td>0</td>\n",
       "      <td>0.0</td>\n",
       "      <td>?</td>\n",
       "      <td>?</td>\n",
       "      <td>?</td>\n",
       "      <td>0</td>\n",
       "    </tr>\n",
       "    <tr>\n",
       "      <th>...</th>\n",
       "      <td>...</td>\n",
       "      <td>...</td>\n",
       "      <td>...</td>\n",
       "      <td>...</td>\n",
       "      <td>...</td>\n",
       "      <td>...</td>\n",
       "      <td>...</td>\n",
       "      <td>...</td>\n",
       "      <td>...</td>\n",
       "      <td>...</td>\n",
       "      <td>...</td>\n",
       "      <td>...</td>\n",
       "      <td>...</td>\n",
       "      <td>...</td>\n",
       "    </tr>\n",
       "    <tr>\n",
       "      <th>264</th>\n",
       "      <td>52</td>\n",
       "      <td>1</td>\n",
       "      <td>4</td>\n",
       "      <td>160</td>\n",
       "      <td>246</td>\n",
       "      <td>0</td>\n",
       "      <td>1</td>\n",
       "      <td>82</td>\n",
       "      <td>1</td>\n",
       "      <td>4.0</td>\n",
       "      <td>2</td>\n",
       "      <td>?</td>\n",
       "      <td>?</td>\n",
       "      <td>1</td>\n",
       "    </tr>\n",
       "    <tr>\n",
       "      <th>265</th>\n",
       "      <td>53</td>\n",
       "      <td>1</td>\n",
       "      <td>3</td>\n",
       "      <td>145</td>\n",
       "      <td>518</td>\n",
       "      <td>0</td>\n",
       "      <td>0</td>\n",
       "      <td>130</td>\n",
       "      <td>0</td>\n",
       "      <td>0.0</td>\n",
       "      <td>?</td>\n",
       "      <td>?</td>\n",
       "      <td>?</td>\n",
       "      <td>1</td>\n",
       "    </tr>\n",
       "    <tr>\n",
       "      <th>266</th>\n",
       "      <td>53</td>\n",
       "      <td>1</td>\n",
       "      <td>4</td>\n",
       "      <td>180</td>\n",
       "      <td>285</td>\n",
       "      <td>0</td>\n",
       "      <td>1</td>\n",
       "      <td>120</td>\n",
       "      <td>1</td>\n",
       "      <td>1.5</td>\n",
       "      <td>2</td>\n",
       "      <td>?</td>\n",
       "      <td>?</td>\n",
       "      <td>1</td>\n",
       "    </tr>\n",
       "    <tr>\n",
       "      <th>267</th>\n",
       "      <td>54</td>\n",
       "      <td>1</td>\n",
       "      <td>4</td>\n",
       "      <td>140</td>\n",
       "      <td>216</td>\n",
       "      <td>0</td>\n",
       "      <td>0</td>\n",
       "      <td>105</td>\n",
       "      <td>0</td>\n",
       "      <td>1.5</td>\n",
       "      <td>2</td>\n",
       "      <td>?</td>\n",
       "      <td>?</td>\n",
       "      <td>1</td>\n",
       "    </tr>\n",
       "    <tr>\n",
       "      <th>268</th>\n",
       "      <td>55</td>\n",
       "      <td>1</td>\n",
       "      <td>1</td>\n",
       "      <td>140</td>\n",
       "      <td>295</td>\n",
       "      <td>0</td>\n",
       "      <td>?</td>\n",
       "      <td>136</td>\n",
       "      <td>0</td>\n",
       "      <td>0.0</td>\n",
       "      <td>?</td>\n",
       "      <td>?</td>\n",
       "      <td>?</td>\n",
       "      <td>1</td>\n",
       "    </tr>\n",
       "    <tr>\n",
       "      <th>269</th>\n",
       "      <td>55</td>\n",
       "      <td>1</td>\n",
       "      <td>2</td>\n",
       "      <td>160</td>\n",
       "      <td>292</td>\n",
       "      <td>1</td>\n",
       "      <td>0</td>\n",
       "      <td>143</td>\n",
       "      <td>1</td>\n",
       "      <td>2.0</td>\n",
       "      <td>2</td>\n",
       "      <td>?</td>\n",
       "      <td>?</td>\n",
       "      <td>1</td>\n",
       "    </tr>\n",
       "    <tr>\n",
       "      <th>270</th>\n",
       "      <td>55</td>\n",
       "      <td>1</td>\n",
       "      <td>4</td>\n",
       "      <td>145</td>\n",
       "      <td>248</td>\n",
       "      <td>0</td>\n",
       "      <td>0</td>\n",
       "      <td>96</td>\n",
       "      <td>1</td>\n",
       "      <td>2.0</td>\n",
       "      <td>2</td>\n",
       "      <td>?</td>\n",
       "      <td>?</td>\n",
       "      <td>1</td>\n",
       "    </tr>\n",
       "    <tr>\n",
       "      <th>271</th>\n",
       "      <td>56</td>\n",
       "      <td>0</td>\n",
       "      <td>2</td>\n",
       "      <td>120</td>\n",
       "      <td>279</td>\n",
       "      <td>0</td>\n",
       "      <td>0</td>\n",
       "      <td>150</td>\n",
       "      <td>0</td>\n",
       "      <td>1.0</td>\n",
       "      <td>2</td>\n",
       "      <td>?</td>\n",
       "      <td>?</td>\n",
       "      <td>1</td>\n",
       "    </tr>\n",
       "    <tr>\n",
       "      <th>272</th>\n",
       "      <td>56</td>\n",
       "      <td>1</td>\n",
       "      <td>4</td>\n",
       "      <td>150</td>\n",
       "      <td>230</td>\n",
       "      <td>0</td>\n",
       "      <td>1</td>\n",
       "      <td>124</td>\n",
       "      <td>1</td>\n",
       "      <td>1.5</td>\n",
       "      <td>2</td>\n",
       "      <td>?</td>\n",
       "      <td>?</td>\n",
       "      <td>1</td>\n",
       "    </tr>\n",
       "    <tr>\n",
       "      <th>273</th>\n",
       "      <td>56</td>\n",
       "      <td>1</td>\n",
       "      <td>4</td>\n",
       "      <td>170</td>\n",
       "      <td>388</td>\n",
       "      <td>0</td>\n",
       "      <td>1</td>\n",
       "      <td>122</td>\n",
       "      <td>1</td>\n",
       "      <td>2.0</td>\n",
       "      <td>2</td>\n",
       "      <td>?</td>\n",
       "      <td>?</td>\n",
       "      <td>1</td>\n",
       "    </tr>\n",
       "    <tr>\n",
       "      <th>274</th>\n",
       "      <td>58</td>\n",
       "      <td>1</td>\n",
       "      <td>2</td>\n",
       "      <td>136</td>\n",
       "      <td>164</td>\n",
       "      <td>0</td>\n",
       "      <td>1</td>\n",
       "      <td>99</td>\n",
       "      <td>1</td>\n",
       "      <td>2.0</td>\n",
       "      <td>2</td>\n",
       "      <td>?</td>\n",
       "      <td>?</td>\n",
       "      <td>1</td>\n",
       "    </tr>\n",
       "    <tr>\n",
       "      <th>275</th>\n",
       "      <td>59</td>\n",
       "      <td>1</td>\n",
       "      <td>4</td>\n",
       "      <td>130</td>\n",
       "      <td>?</td>\n",
       "      <td>0</td>\n",
       "      <td>0</td>\n",
       "      <td>125</td>\n",
       "      <td>0</td>\n",
       "      <td>0.0</td>\n",
       "      <td>?</td>\n",
       "      <td>?</td>\n",
       "      <td>?</td>\n",
       "      <td>1</td>\n",
       "    </tr>\n",
       "    <tr>\n",
       "      <th>276</th>\n",
       "      <td>59</td>\n",
       "      <td>1</td>\n",
       "      <td>4</td>\n",
       "      <td>140</td>\n",
       "      <td>264</td>\n",
       "      <td>1</td>\n",
       "      <td>2</td>\n",
       "      <td>119</td>\n",
       "      <td>1</td>\n",
       "      <td>0.0</td>\n",
       "      <td>?</td>\n",
       "      <td>?</td>\n",
       "      <td>?</td>\n",
       "      <td>1</td>\n",
       "    </tr>\n",
       "    <tr>\n",
       "      <th>277</th>\n",
       "      <td>65</td>\n",
       "      <td>1</td>\n",
       "      <td>4</td>\n",
       "      <td>170</td>\n",
       "      <td>263</td>\n",
       "      <td>1</td>\n",
       "      <td>0</td>\n",
       "      <td>112</td>\n",
       "      <td>1</td>\n",
       "      <td>2.0</td>\n",
       "      <td>2</td>\n",
       "      <td>?</td>\n",
       "      <td>?</td>\n",
       "      <td>1</td>\n",
       "    </tr>\n",
       "    <tr>\n",
       "      <th>278</th>\n",
       "      <td>66</td>\n",
       "      <td>1</td>\n",
       "      <td>4</td>\n",
       "      <td>140</td>\n",
       "      <td>?</td>\n",
       "      <td>0</td>\n",
       "      <td>0</td>\n",
       "      <td>94</td>\n",
       "      <td>1</td>\n",
       "      <td>1.0</td>\n",
       "      <td>2</td>\n",
       "      <td>?</td>\n",
       "      <td>?</td>\n",
       "      <td>1</td>\n",
       "    </tr>\n",
       "    <tr>\n",
       "      <th>279</th>\n",
       "      <td>41</td>\n",
       "      <td>1</td>\n",
       "      <td>4</td>\n",
       "      <td>120</td>\n",
       "      <td>336</td>\n",
       "      <td>0</td>\n",
       "      <td>0</td>\n",
       "      <td>118</td>\n",
       "      <td>1</td>\n",
       "      <td>3.0</td>\n",
       "      <td>2</td>\n",
       "      <td>?</td>\n",
       "      <td>?</td>\n",
       "      <td>1</td>\n",
       "    </tr>\n",
       "    <tr>\n",
       "      <th>280</th>\n",
       "      <td>43</td>\n",
       "      <td>1</td>\n",
       "      <td>4</td>\n",
       "      <td>140</td>\n",
       "      <td>288</td>\n",
       "      <td>0</td>\n",
       "      <td>0</td>\n",
       "      <td>135</td>\n",
       "      <td>1</td>\n",
       "      <td>2.0</td>\n",
       "      <td>2</td>\n",
       "      <td>?</td>\n",
       "      <td>?</td>\n",
       "      <td>1</td>\n",
       "    </tr>\n",
       "    <tr>\n",
       "      <th>281</th>\n",
       "      <td>44</td>\n",
       "      <td>1</td>\n",
       "      <td>4</td>\n",
       "      <td>135</td>\n",
       "      <td>491</td>\n",
       "      <td>0</td>\n",
       "      <td>0</td>\n",
       "      <td>135</td>\n",
       "      <td>0</td>\n",
       "      <td>0.0</td>\n",
       "      <td>?</td>\n",
       "      <td>?</td>\n",
       "      <td>?</td>\n",
       "      <td>1</td>\n",
       "    </tr>\n",
       "    <tr>\n",
       "      <th>282</th>\n",
       "      <td>47</td>\n",
       "      <td>0</td>\n",
       "      <td>4</td>\n",
       "      <td>120</td>\n",
       "      <td>205</td>\n",
       "      <td>0</td>\n",
       "      <td>0</td>\n",
       "      <td>98</td>\n",
       "      <td>1</td>\n",
       "      <td>2.0</td>\n",
       "      <td>2</td>\n",
       "      <td>?</td>\n",
       "      <td>6</td>\n",
       "      <td>1</td>\n",
       "    </tr>\n",
       "    <tr>\n",
       "      <th>283</th>\n",
       "      <td>47</td>\n",
       "      <td>1</td>\n",
       "      <td>4</td>\n",
       "      <td>160</td>\n",
       "      <td>291</td>\n",
       "      <td>0</td>\n",
       "      <td>1</td>\n",
       "      <td>158</td>\n",
       "      <td>1</td>\n",
       "      <td>3.0</td>\n",
       "      <td>2</td>\n",
       "      <td>?</td>\n",
       "      <td>?</td>\n",
       "      <td>1</td>\n",
       "    </tr>\n",
       "    <tr>\n",
       "      <th>284</th>\n",
       "      <td>49</td>\n",
       "      <td>1</td>\n",
       "      <td>4</td>\n",
       "      <td>128</td>\n",
       "      <td>212</td>\n",
       "      <td>0</td>\n",
       "      <td>0</td>\n",
       "      <td>96</td>\n",
       "      <td>1</td>\n",
       "      <td>0.0</td>\n",
       "      <td>?</td>\n",
       "      <td>?</td>\n",
       "      <td>?</td>\n",
       "      <td>1</td>\n",
       "    </tr>\n",
       "    <tr>\n",
       "      <th>285</th>\n",
       "      <td>49</td>\n",
       "      <td>1</td>\n",
       "      <td>4</td>\n",
       "      <td>150</td>\n",
       "      <td>222</td>\n",
       "      <td>0</td>\n",
       "      <td>0</td>\n",
       "      <td>122</td>\n",
       "      <td>0</td>\n",
       "      <td>2.0</td>\n",
       "      <td>2</td>\n",
       "      <td>?</td>\n",
       "      <td>?</td>\n",
       "      <td>1</td>\n",
       "    </tr>\n",
       "    <tr>\n",
       "      <th>286</th>\n",
       "      <td>50</td>\n",
       "      <td>1</td>\n",
       "      <td>4</td>\n",
       "      <td>140</td>\n",
       "      <td>231</td>\n",
       "      <td>0</td>\n",
       "      <td>1</td>\n",
       "      <td>140</td>\n",
       "      <td>1</td>\n",
       "      <td>5.0</td>\n",
       "      <td>2</td>\n",
       "      <td>?</td>\n",
       "      <td>?</td>\n",
       "      <td>1</td>\n",
       "    </tr>\n",
       "    <tr>\n",
       "      <th>287</th>\n",
       "      <td>50</td>\n",
       "      <td>1</td>\n",
       "      <td>4</td>\n",
       "      <td>140</td>\n",
       "      <td>341</td>\n",
       "      <td>0</td>\n",
       "      <td>1</td>\n",
       "      <td>125</td>\n",
       "      <td>1</td>\n",
       "      <td>2.5</td>\n",
       "      <td>2</td>\n",
       "      <td>?</td>\n",
       "      <td>?</td>\n",
       "      <td>1</td>\n",
       "    </tr>\n",
       "    <tr>\n",
       "      <th>288</th>\n",
       "      <td>52</td>\n",
       "      <td>1</td>\n",
       "      <td>4</td>\n",
       "      <td>140</td>\n",
       "      <td>266</td>\n",
       "      <td>0</td>\n",
       "      <td>0</td>\n",
       "      <td>134</td>\n",
       "      <td>1</td>\n",
       "      <td>2.0</td>\n",
       "      <td>2</td>\n",
       "      <td>?</td>\n",
       "      <td>?</td>\n",
       "      <td>1</td>\n",
       "    </tr>\n",
       "    <tr>\n",
       "      <th>289</th>\n",
       "      <td>52</td>\n",
       "      <td>1</td>\n",
       "      <td>4</td>\n",
       "      <td>160</td>\n",
       "      <td>331</td>\n",
       "      <td>0</td>\n",
       "      <td>0</td>\n",
       "      <td>94</td>\n",
       "      <td>1</td>\n",
       "      <td>2.5</td>\n",
       "      <td>?</td>\n",
       "      <td>?</td>\n",
       "      <td>?</td>\n",
       "      <td>1</td>\n",
       "    </tr>\n",
       "    <tr>\n",
       "      <th>290</th>\n",
       "      <td>54</td>\n",
       "      <td>0</td>\n",
       "      <td>3</td>\n",
       "      <td>130</td>\n",
       "      <td>294</td>\n",
       "      <td>0</td>\n",
       "      <td>1</td>\n",
       "      <td>100</td>\n",
       "      <td>1</td>\n",
       "      <td>0.0</td>\n",
       "      <td>2</td>\n",
       "      <td>?</td>\n",
       "      <td>?</td>\n",
       "      <td>1</td>\n",
       "    </tr>\n",
       "    <tr>\n",
       "      <th>291</th>\n",
       "      <td>56</td>\n",
       "      <td>1</td>\n",
       "      <td>4</td>\n",
       "      <td>155</td>\n",
       "      <td>342</td>\n",
       "      <td>1</td>\n",
       "      <td>0</td>\n",
       "      <td>150</td>\n",
       "      <td>1</td>\n",
       "      <td>3.0</td>\n",
       "      <td>2</td>\n",
       "      <td>?</td>\n",
       "      <td>?</td>\n",
       "      <td>1</td>\n",
       "    </tr>\n",
       "    <tr>\n",
       "      <th>292</th>\n",
       "      <td>58</td>\n",
       "      <td>0</td>\n",
       "      <td>2</td>\n",
       "      <td>180</td>\n",
       "      <td>393</td>\n",
       "      <td>0</td>\n",
       "      <td>0</td>\n",
       "      <td>110</td>\n",
       "      <td>1</td>\n",
       "      <td>1.0</td>\n",
       "      <td>2</td>\n",
       "      <td>?</td>\n",
       "      <td>7</td>\n",
       "      <td>1</td>\n",
       "    </tr>\n",
       "    <tr>\n",
       "      <th>293</th>\n",
       "      <td>65</td>\n",
       "      <td>1</td>\n",
       "      <td>4</td>\n",
       "      <td>130</td>\n",
       "      <td>275</td>\n",
       "      <td>0</td>\n",
       "      <td>1</td>\n",
       "      <td>115</td>\n",
       "      <td>1</td>\n",
       "      <td>1.0</td>\n",
       "      <td>2</td>\n",
       "      <td>?</td>\n",
       "      <td>?</td>\n",
       "      <td>1</td>\n",
       "    </tr>\n",
       "  </tbody>\n",
       "</table>\n",
       "<p>294 rows × 14 columns</p>\n",
       "</div>"
      ],
      "text/plain": [
       "     age  sex  cp trestbps chol fbs restecg thalach exang  oldpeak slope ca  \\\n",
       "0     28    1   2      130  132   0       2     185     0      0.0     ?  ?   \n",
       "1     29    1   2      120  243   0       0     160     0      0.0     ?  ?   \n",
       "2     29    1   2      140    ?   0       0     170     0      0.0     ?  ?   \n",
       "3     30    0   1      170  237   0       1     170     0      0.0     ?  ?   \n",
       "4     31    0   2      100  219   0       1     150     0      0.0     ?  ?   \n",
       "5     32    0   2      105  198   0       0     165     0      0.0     ?  ?   \n",
       "6     32    1   2      110  225   0       0     184     0      0.0     ?  ?   \n",
       "7     32    1   2      125  254   0       0     155     0      0.0     ?  ?   \n",
       "8     33    1   3      120  298   0       0     185     0      0.0     ?  ?   \n",
       "9     34    0   2      130  161   0       0     190     0      0.0     ?  ?   \n",
       "10    34    1   2      150  214   0       1     168     0      0.0     ?  ?   \n",
       "11    34    1   2       98  220   0       0     150     0      0.0     ?  ?   \n",
       "12    35    0   1      120  160   0       1     185     0      0.0     ?  ?   \n",
       "13    35    0   4      140  167   0       0     150     0      0.0     ?  ?   \n",
       "14    35    1   2      120  308   0       2     180     0      0.0     ?  ?   \n",
       "15    35    1   2      150  264   0       0     168     0      0.0     ?  ?   \n",
       "16    36    1   2      120  166   0       0     180     0      0.0     ?  ?   \n",
       "17    36    1   3      112  340   0       0     184     0      1.0     2  ?   \n",
       "18    36    1   3      130  209   0       0     178     0      0.0     ?  ?   \n",
       "19    36    1   3      150  160   0       0     172     0      0.0     ?  ?   \n",
       "20    37    0   2      120  260   0       0     130     0      0.0     ?  ?   \n",
       "21    37    0   3      130  211   0       0     142     0      0.0     ?  ?   \n",
       "22    37    0   4      130  173   0       1     184     0      0.0     ?  ?   \n",
       "23    37    1   2      130  283   0       1      98     0      0.0     ?  ?   \n",
       "24    37    1   3      130  194   0       0     150     0      0.0     ?  ?   \n",
       "25    37    1   4      120  223   0       0     168     0      0.0     ?  ?   \n",
       "26    37    1   4      130  315   0       0     158     0      0.0     ?  ?   \n",
       "27    38    0   2      120  275   ?       0     129     0      0.0     ?  ?   \n",
       "28    38    1   2      140  297   0       0     150     0      0.0     ?  ?   \n",
       "29    38    1   3      145  292   0       0     130     0      0.0     ?  ?   \n",
       "..   ...  ...  ..      ...  ...  ..     ...     ...   ...      ...   ... ..   \n",
       "264   52    1   4      160  246   0       1      82     1      4.0     2  ?   \n",
       "265   53    1   3      145  518   0       0     130     0      0.0     ?  ?   \n",
       "266   53    1   4      180  285   0       1     120     1      1.5     2  ?   \n",
       "267   54    1   4      140  216   0       0     105     0      1.5     2  ?   \n",
       "268   55    1   1      140  295   0       ?     136     0      0.0     ?  ?   \n",
       "269   55    1   2      160  292   1       0     143     1      2.0     2  ?   \n",
       "270   55    1   4      145  248   0       0      96     1      2.0     2  ?   \n",
       "271   56    0   2      120  279   0       0     150     0      1.0     2  ?   \n",
       "272   56    1   4      150  230   0       1     124     1      1.5     2  ?   \n",
       "273   56    1   4      170  388   0       1     122     1      2.0     2  ?   \n",
       "274   58    1   2      136  164   0       1      99     1      2.0     2  ?   \n",
       "275   59    1   4      130    ?   0       0     125     0      0.0     ?  ?   \n",
       "276   59    1   4      140  264   1       2     119     1      0.0     ?  ?   \n",
       "277   65    1   4      170  263   1       0     112     1      2.0     2  ?   \n",
       "278   66    1   4      140    ?   0       0      94     1      1.0     2  ?   \n",
       "279   41    1   4      120  336   0       0     118     1      3.0     2  ?   \n",
       "280   43    1   4      140  288   0       0     135     1      2.0     2  ?   \n",
       "281   44    1   4      135  491   0       0     135     0      0.0     ?  ?   \n",
       "282   47    0   4      120  205   0       0      98     1      2.0     2  ?   \n",
       "283   47    1   4      160  291   0       1     158     1      3.0     2  ?   \n",
       "284   49    1   4      128  212   0       0      96     1      0.0     ?  ?   \n",
       "285   49    1   4      150  222   0       0     122     0      2.0     2  ?   \n",
       "286   50    1   4      140  231   0       1     140     1      5.0     2  ?   \n",
       "287   50    1   4      140  341   0       1     125     1      2.5     2  ?   \n",
       "288   52    1   4      140  266   0       0     134     1      2.0     2  ?   \n",
       "289   52    1   4      160  331   0       0      94     1      2.5     ?  ?   \n",
       "290   54    0   3      130  294   0       1     100     1      0.0     2  ?   \n",
       "291   56    1   4      155  342   1       0     150     1      3.0     2  ?   \n",
       "292   58    0   2      180  393   0       0     110     1      1.0     2  ?   \n",
       "293   65    1   4      130  275   0       1     115     1      1.0     2  ?   \n",
       "\n",
       "    thal  heartdisease  \n",
       "0      ?             0  \n",
       "1      ?             0  \n",
       "2      ?             0  \n",
       "3      6             0  \n",
       "4      ?             0  \n",
       "5      ?             0  \n",
       "6      ?             0  \n",
       "7      ?             0  \n",
       "8      ?             0  \n",
       "9      ?             0  \n",
       "10     ?             0  \n",
       "11     ?             0  \n",
       "12     ?             0  \n",
       "13     ?             0  \n",
       "14     ?             0  \n",
       "15     ?             0  \n",
       "16     ?             0  \n",
       "17     3             0  \n",
       "18     ?             0  \n",
       "19     ?             0  \n",
       "20     ?             0  \n",
       "21     ?             0  \n",
       "22     ?             0  \n",
       "23     ?             0  \n",
       "24     ?             0  \n",
       "25     3             0  \n",
       "26     ?             0  \n",
       "27     ?             0  \n",
       "28     ?             0  \n",
       "29     ?             0  \n",
       "..   ...           ...  \n",
       "264    ?             1  \n",
       "265    ?             1  \n",
       "266    ?             1  \n",
       "267    ?             1  \n",
       "268    ?             1  \n",
       "269    ?             1  \n",
       "270    ?             1  \n",
       "271    ?             1  \n",
       "272    ?             1  \n",
       "273    ?             1  \n",
       "274    ?             1  \n",
       "275    ?             1  \n",
       "276    ?             1  \n",
       "277    ?             1  \n",
       "278    ?             1  \n",
       "279    ?             1  \n",
       "280    ?             1  \n",
       "281    ?             1  \n",
       "282    6             1  \n",
       "283    ?             1  \n",
       "284    ?             1  \n",
       "285    ?             1  \n",
       "286    ?             1  \n",
       "287    ?             1  \n",
       "288    ?             1  \n",
       "289    ?             1  \n",
       "290    ?             1  \n",
       "291    ?             1  \n",
       "292    7             1  \n",
       "293    ?             1  \n",
       "\n",
       "[294 rows x 14 columns]"
      ]
     },
     "execution_count": 4,
     "metadata": {},
     "output_type": "execute_result"
    }
   ],
   "source": [
    "Hungarian_data_URL = 'http://archive.ics.uci.edu/ml/machine-learning-databases/heart-disease/processed.hungarian.data'\n",
    "features = ['age', 'sex', 'cp', 'trestbps', 'chol', 'fbs', 'restecg', 'thalach', 'exang', 'oldpeak', 'slope', 'ca', 'thal', 'heartdisease']\n",
    "\n",
    "HungarianHeartDisease = pd.read_csv(urlopen(Hungarian_data_URL), names = features)        #gets Cleveland data\n",
    "HungarianHeartDisease"
   ]
  },
  {
   "cell_type": "markdown",
   "metadata": {},
   "source": [
    "# 3. University Hospital, Zurich, Switzerland (switzerland.data)"
   ]
  },
  {
   "cell_type": "code",
   "execution_count": 5,
   "metadata": {},
   "outputs": [
    {
     "data": {
      "text/plain": [
       "(123, 14)"
      ]
     },
     "execution_count": 5,
     "metadata": {},
     "output_type": "execute_result"
    }
   ],
   "source": [
    "Switzerland_data_URL = 'http://archive.ics.uci.edu/ml/machine-learning-databases/heart-disease/processed.switzerland.data'\n",
    "features = ['age', 'sex', 'cp', 'trestbps', 'chol', 'fbs', 'restecg', 'thalach', 'exang', 'oldpeak', 'slope', 'ca', 'thal', 'heartdisease']\n",
    "SwitzerlandHeartDisease = pd.read_csv(urlopen(Switzerland_data_URL),names = features)        #gets Cleveland data\n",
    "SwitzerlandHeartDisease.shape"
   ]
  },
  {
   "cell_type": "markdown",
   "metadata": {},
   "source": [
    "# 4. V.A. Medical Center, Long Beach, CA (long-beach-va.data)"
   ]
  },
  {
   "cell_type": "code",
   "execution_count": 6,
   "metadata": {},
   "outputs": [
    {
     "data": {
      "text/plain": [
       "(200, 14)"
      ]
     },
     "execution_count": 6,
     "metadata": {},
     "output_type": "execute_result"
    }
   ],
   "source": [
    "Long_Beach_VA_URL = 'http://archive.ics.uci.edu/ml/machine-learning-databases/heart-disease/processed.va.data'\n",
    "features = ['age', 'sex', 'cp', 'trestbps', 'chol', 'fbs', 'restecg', 'thalach', 'exang', 'oldpeak', 'slope', 'ca', 'thal', 'heartdisease']\n",
    "LongBeachHeartDisease = pd.read_csv(urlopen(Long_Beach_VA_URL),names = features)        #gets Cleveland data\n",
    "LongBeachHeartDisease.shape"
   ]
  },
  {
   "cell_type": "markdown",
   "metadata": {},
   "source": [
    "As we don't have enough data from single source so we are taking data from 4 sources and we will combine those data into single dataset."
   ]
  },
  {
   "cell_type": "code",
   "execution_count": 7,
   "metadata": {
    "scrolled": true
   },
   "outputs": [
    {
     "data": {
      "text/plain": [
       "(920, 14)"
      ]
     },
     "execution_count": 7,
     "metadata": {},
     "output_type": "execute_result"
    }
   ],
   "source": [
    "Cleveland_data_URL = 'http://archive.ics.uci.edu/ml/machine-learning-databases/heart-disease/processed.cleveland.data'\n",
    "Hungarian_data_URL = 'http://archive.ics.uci.edu/ml/machine-learning-databases/heart-disease/processed.hungarian.data'\n",
    "Switzerland_data_URL = 'http://archive.ics.uci.edu/ml/machine-learning-databases/heart-disease/processed.switzerland.data'\n",
    "V_A_URL = 'http://archive.ics.uci.edu/ml/machine-learning-databases/heart-disease/processed.va.data'\n",
    "\n",
    "np.set_printoptions(threshold=np.nan)           #makes it so that we can see a whole array when we output it\n",
    "features = ['age', 'sex', 'cp', 'trestbps', 'chol', 'fbs', 'restecg', 'thalach', 'exang', 'oldpeak', 'slope', 'ca', 'thal', 'heartdisease']\n",
    "\n",
    "ClevelandHeartDisease = pd.read_csv(urlopen(Cleveland_data_URL), names = features)        #gets Cleveland data\n",
    "HungarianHeartDisease = pd.read_csv(urlopen(Hungarian_data_URL), names = features)        #gets Hungary data\n",
    "SwitzerlandHeartDisease = pd.read_csv(urlopen(Switzerland_data_URL), names = features)    #gets Switzerland data\n",
    "LongBeachHeartDisease = pd.read_csv(urlopen(V_A_URL), names = features)    #gets Switzerland data\n",
    "\n",
    "temp_data = [ClevelandHeartDisease, HungarianHeartDisease, SwitzerlandHeartDisease,LongBeachHeartDisease]     #combining data from 3 datasets into single dataset \n",
    "heartDisease = pd.concat(temp_data)          #combines list into one array\n",
    "heartDisease.shape"
   ]
  },
  {
   "cell_type": "code",
   "execution_count": 8,
   "metadata": {},
   "outputs": [
    {
     "name": "stdout",
     "output_type": "stream",
     "text": [
      "Number of ? present in Dataset =  1759\n"
     ]
    }
   ],
   "source": [
    "#Lets count the number of \"?\" present in our combined data. \n",
    "count = 0\n",
    "for item in heartDisease:\n",
    "    for i in heartDisease[item]:\n",
    "        count += (i == '?')\n",
    "print(\"Number of ? present in Dataset = \" , count)\n"
   ]
  },
  {
   "cell_type": "markdown",
   "metadata": {},
   "source": [
    "We are deleting features 'ca', 'slope', and 'thal'.\n",
    "And replacing \"?\" with NAN."
   ]
  },
  {
   "cell_type": "code",
   "execution_count": 9,
   "metadata": {
    "scrolled": true
   },
   "outputs": [],
   "source": [
    "# Number of datapoints before deleting the NAN values\n",
    "\n",
    "Number_Of_Datapoints_Before = heartDisease.shape[0]\n",
    "# deleting  'ca', 'slope', 'thal'\n",
    "\n",
    "del heartDisease['ca']\n",
    "del heartDisease['slope']\n",
    "del heartDisease['thal']\n",
    "heartDisease = heartDisease.replace('?', np.nan)\n",
    "#print(heartDisease)\n",
    "#heartDisease"
   ]
  },
  {
   "cell_type": "markdown",
   "metadata": {},
   "source": [
    "Now we are doing feature Scaling so that all our features are in same range/scale. \n",
    "First we are converting the datapoints into float values"
   ]
  },
  {
   "cell_type": "code",
   "execution_count": 10,
   "metadata": {},
   "outputs": [
    {
     "name": "stdout",
     "output_type": "stream",
     "text": [
      "Number of Datapoints deleted :  180\n",
      "Dataset After Feature Scaling : \n",
      "\n",
      "\n"
     ]
    }
   ],
   "source": [
    "#converts everything to floats\n",
    "for item in heartDisease: \n",
    "    heartDisease[item] = pd.to_numeric(heartDisease[item])\n",
    "\n",
    "#Feature Scaling \n",
    "\n",
    "def normalize(heartDisease, toNormalize):\n",
    "    result = heartDisease.copy()\n",
    "    for item in heartDisease.columns:\n",
    "        if (item in toNormalize):\n",
    "            max_value = heartDisease[item].max()\n",
    "            min_value = heartDisease[item].min()\n",
    "            result[item] = (heartDisease[item] - min_value) / (max_value - min_value)\n",
    "    return result\n",
    "\n",
    "#we are Normalizing the following features.\n",
    "\n",
    "toNormalize = ['age', 'cp', 'trestbps', 'chol','restecg', 'thalach', 'oldpeak']\n",
    "heartDisease = normalize(heartDisease, toNormalize)\n",
    "\n",
    "# Now we are deleting the NAN values from our dataset\n",
    "\n",
    "heartDisease = heartDisease.dropna()\n",
    "heartDisease.head()\n",
    "heartDisease.shape\n",
    "\n",
    "# Number of datapoints after deleting the NAN values\n",
    "Number_Of_Datapoints_After = heartDisease.shape[0]\n",
    "\n",
    "# Number of datapoints deleted\n",
    "deleted  = Number_Of_Datapoints_Before - Number_Of_Datapoints_After\n",
    "print(\"Number of Datapoints deleted : \", deleted)\n",
    "\n",
    "print(\"Dataset After Feature Scaling : \\n\\n\")\n",
    "#heartDisease"
   ]
  },
  {
   "cell_type": "markdown",
   "metadata": {},
   "source": [
    "As our aim is to predict whether heart disease is present or not so we are converting the classification problem for two classes \"0\" and \"1\". \"0\" for \"heart disease is not present and \"1\" for heart disease is present."
   ]
  },
  {
   "cell_type": "code",
   "execution_count": 11,
   "metadata": {},
   "outputs": [],
   "source": [
    "for i in range(1,5):\n",
    "    heartDisease['heartdisease'] = heartDisease['heartdisease'].replace(i,1)\n",
    "#heartDisease"
   ]
  },
  {
   "cell_type": "markdown",
   "metadata": {},
   "source": [
    "As our Classification problem is to predict only \"0\" and \"1\" . So lets count the number of datapoints having \"Heart  Disease \" and Number of Datapoints not having \"Heart Disease \" .\n",
    "For this purpose we define a fuction \"Class_Counter \".\n"
   ]
  },
  {
   "cell_type": "code",
   "execution_count": 13,
   "metadata": {},
   "outputs": [
    {
     "name": "stdout",
     "output_type": "stream",
     "text": [
      "The percentage of heart disease present is: 51.7568%\n",
      "The percentage of heart disease not present is: 48.2432%\n",
      "Datapoints having Heart Disease :  383\n",
      "Datapoints not having Heart Disease :  357\n"
     ]
    }
   ],
   "source": [
    "def Counting_Classes(item,count_not_present, count_present,type_0,type_1,type_2,type_3,type_4):\n",
    "    i = 0\n",
    "    n = 0\n",
    "    Present = 0 \n",
    "    NotPresent = 0\n",
    "  \n",
    "    for item in heartDisease[item]:\n",
    "        if (item == 1):\n",
    "            i += 1\n",
    "            type_1 +=1\n",
    "            count_present += 1\n",
    "        elif (item == 0):\n",
    "            n += 1\n",
    "            type_0 +=1\n",
    "            count_not_present +=1\n",
    "        elif (item == 2):\n",
    "            type_2 += 2\n",
    "        elif(item == 3):\n",
    "            type_3 += 3\n",
    "        elif(item == 4):\n",
    "            type_4 += 4\n",
    "    Present = (i/len(heartDisease)) * 100\n",
    "    NotPresent = (n/len(heartDisease)) * 100\n",
    "    print(\"The percentage of heart disease present is: {0:.4f}%\".format(Present)) \n",
    "    print(\"The percentage of heart disease not present is: {0:.4f}%\".format(NotPresent))\n",
    "    return count_not_present  ,count_present,type_0,type_1,type_2,type_3,type_4\n",
    "\n",
    "count_not_present = 0\n",
    "count_present = 0\n",
    "type_0 = 0\n",
    "type_1 = 0\n",
    "type_2 = 0\n",
    "type_3 = 0\n",
    "type_4 = 0\n",
    "count_not_present ,count_present,type_0,type_1,type_2,type_3,type_4 = Counting_Classes('heartdisease',count_not_present , count_present,type_0,type_1,type_2,type_3,type_4)\n",
    "print(\"Datapoints having Heart Disease : \" , count_present)\n",
    "print(\"Datapoints not having Heart Disease : \" , count_not_present)\n",
    "#print(\"type0: \",type_0)\n",
    "#print(\"type1: \",type_1)\n",
    "#print(\"type2: \",type_2)\n",
    "#print(\"type3: \",type_3)\n",
    "#print(\"type4: \",type_4)"
   ]
  },
  {
   "cell_type": "markdown",
   "metadata": {},
   "source": [
    "# Splitting our data into \"Testing\" and \"Training\" data\n",
    "# And then we will start dealing with Different Algorithms"
   ]
  },
  {
   "cell_type": "code",
   "execution_count": 14,
   "metadata": {},
   "outputs": [],
   "source": [
    "heartDisease  = heartDisease.values\n",
    "X = heartDisease[:,:10]\n",
    "Y = heartDisease[:,10]\n",
    "X_train, X_test, Y_train, Y_test = train_test_split(X, Y, test_size=0.25, random_state=0)"
   ]
  },
  {
   "cell_type": "markdown",
   "metadata": {},
   "source": [
    "# 1. Applying Logistic Regression Algorithm"
   ]
  },
  {
   "cell_type": "code",
   "execution_count": 15,
   "metadata": {},
   "outputs": [],
   "source": [
    "from sklearn.linear_model import LogisticRegression"
   ]
  },
  {
   "cell_type": "code",
   "execution_count": 16,
   "metadata": {},
   "outputs": [
    {
     "name": "stdout",
     "output_type": "stream",
     "text": [
      "Accuracy score using Logistic Regression Classifier =  0.7837837837837838\n",
      "Training Score =  0.809009009009009\n",
      "Testing Score =  0.7837837837837838\n"
     ]
    }
   ],
   "source": [
    "clf = LogisticRegression()               #creating LogisticRegression object\n",
    " \n",
    "clf.fit(X_train,Y_train)                 #training the model              \n",
    "Y_pred1 = clf.predict(X_test)\n",
    "Y_pred1\n",
    "\n",
    "print(\"Accuracy score using Logistic Regression Classifier = \",accuracy_score(y_true = Y_test, y_pred = Y_pred1))\n",
    "\n",
    "print(\"Training Score = \",clf.score(X_train,Y_train))\n",
    "print(\"Testing Score = \" ,clf.score(X_test,Y_test))"
   ]
  },
  {
   "cell_type": "markdown",
   "metadata": {},
   "source": [
    "# 2. Applying Decision Tree Algorithm"
   ]
  },
  {
   "cell_type": "code",
   "execution_count": 17,
   "metadata": {},
   "outputs": [
    {
     "name": "stdout",
     "output_type": "stream",
     "text": [
      "Accuracy score using Decision Tree Classifier =  0.8\n",
      "Training Score =  0.809009009009009\n",
      "Testing Score =  0.8\n"
     ]
    }
   ],
   "source": [
    "DTclf = DecisionTreeClassifier(max_leaf_nodes=10, random_state=42)\n",
    "DTclf.fit(X_train, Y_train)\n",
    "\n",
    "Y_pred2 = DTclf.predict(X_test)\n",
    "print(\"Accuracy score using Decision Tree Classifier = \",accuracy_score(y_true = Y_test, y_pred = Y_pred2))\n",
    "\n",
    "print(\"Training Score = \",DTclf.score(X_train,Y_train))\n",
    "print(\"Testing Score = \" ,DTclf.score(X_test,Y_test))"
   ]
  },
  {
   "cell_type": "markdown",
   "metadata": {},
   "source": [
    "# 3. Applying KNN Algorithm. "
   ]
  },
  {
   "cell_type": "code",
   "execution_count": 18,
   "metadata": {},
   "outputs": [],
   "source": [
    "KNNclf = KNeighborsClassifier(n_neighbors = 5)\n",
    "\n",
    "KNNclf.fit(X_train ,Y_train)\n",
    "Y_pred5 = KNNclf.predict(X_test)"
   ]
  },
  {
   "cell_type": "code",
   "execution_count": 19,
   "metadata": {
    "scrolled": true
   },
   "outputs": [
    {
     "name": "stdout",
     "output_type": "stream",
     "text": [
      "Accuracy score using KNN Classifier =  0.7891891891891892\n",
      "Training Score =  0.827027027027027\n",
      "Testing Score =  0.7891891891891892\n"
     ]
    }
   ],
   "source": [
    "print(\"Accuracy score using KNN Classifier = \",accuracy_score(y_true = Y_test, y_pred = Y_pred5))\n",
    "\n",
    "print(\"Training Score = \",KNNclf.score(X_train,Y_train))\n",
    "print(\"Testing Score = \" ,KNNclf.score(X_test,Y_test))"
   ]
  },
  {
   "cell_type": "markdown",
   "metadata": {},
   "source": [
    "# Lets check at what value of K Score is high"
   ]
  },
  {
   "cell_type": "code",
   "execution_count": 20,
   "metadata": {},
   "outputs": [
    {
     "name": "stdout",
     "output_type": "stream",
     "text": [
      "K Value      Score \n",
      "1         0.8378378378378378\n",
      "3         0.9621621621621622\n",
      "5         1.0\n",
      "7         0.9513513513513514\n",
      "9         0.9297297297297298\n",
      "11         0.8864864864864865\n",
      "13         0.8864864864864865\n",
      "15         0.8918918918918919\n",
      "17         0.8810810810810811\n",
      "19         0.8810810810810811\n",
      "21         0.8648648648648649\n",
      "23         0.8432432432432433\n",
      "\n",
      "Best Score at optimal value of K =  1.0\n"
     ]
    }
   ],
   "source": [
    "X_axis = []\n",
    "Y_axis = []\n",
    "\n",
    "print(\"K Value      Score \")\n",
    "for i in range(1,25,2):\n",
    "    clf = KNeighborsClassifier(n_neighbors = i)\n",
    "    X_axis.append(i)\n",
    "    clf.fit(X_train ,Y_train)\n",
    "    score = clf.score(X_test ,Y_pred5)\n",
    "    Y_axis.append(score.mean())\n",
    "    print(i,\"       \",score.mean())\n",
    "    \n",
    "Best_K_Value = max(Y_axis)\n",
    "print(\"\\nBest Score at optimal value of K = \" ,Best_K_Value)"
   ]
  },
  {
   "cell_type": "markdown",
   "metadata": {},
   "source": [
    "# Lets plot a graph of variation in values of K"
   ]
  },
  {
   "cell_type": "code",
   "execution_count": 21,
   "metadata": {},
   "outputs": [
    {
     "data": {
      "image/png": "[encoded data removed]",
      "text/plain": [
       "<Figure size 432x288 with 1 Axes>"
      ]
     },
     "metadata": {},
     "output_type": "display_data"
    }
   ],
   "source": [
    "import matplotlib.pyplot as plt\n",
    "plt.plot(X_axis,Y_axis)\n",
    "plt.show()"
   ]
  },
  {
   "cell_type": "markdown",
   "metadata": {},
   "source": [
    "# 4. Applying SVM Algorithm. "
   ]
  },
  {
   "cell_type": "code",
   "execution_count": 22,
   "metadata": {},
   "outputs": [
    {
     "data": {
      "text/plain": [
       "SVC(C=5, cache_size=200, class_weight=None, coef0=0.0,\n",
       "  decision_function_shape='ovr', degree=3, gamma='auto', kernel='sigmoid',\n",
       "  max_iter=-1, probability=False, random_state=None, shrinking=True,\n",
       "  tol=0.001, verbose=False)"
      ]
     },
     "execution_count": 22,
     "metadata": {},
     "output_type": "execute_result"
    }
   ],
   "source": [
    "# Using Linear Decision Boundaries\n",
    "SVMclf = svm.SVC(C =  5,kernel = 'sigmoid')   #linear', 'poly', 'rbf', 'sigmoid'\n",
    "SVMclf.fit(X_train,Y_train)"
   ]
  },
  {
   "cell_type": "code",
   "execution_count": 23,
   "metadata": {},
   "outputs": [
    {
     "data": {
      "text/plain": [
       "0.7783783783783784"
      ]
     },
     "execution_count": 23,
     "metadata": {},
     "output_type": "execute_result"
    }
   ],
   "source": [
    "SVMclf.score(X_test,Y_test)"
   ]
  },
  {
   "cell_type": "code",
   "execution_count": 24,
   "metadata": {},
   "outputs": [
    {
     "data": {
      "text/plain": [
       "0.8018018018018018"
      ]
     },
     "execution_count": 24,
     "metadata": {},
     "output_type": "execute_result"
    }
   ],
   "source": [
    "Y_pred6 = SVMclf.predict(X_test)\n",
    "SVMclf.score(X_train,Y_train)"
   ]
  },
  {
   "cell_type": "code",
   "execution_count": 25,
   "metadata": {},
   "outputs": [],
   "source": [
    "#Y_pred6 - Y_test"
   ]
  },
  {
   "cell_type": "code",
   "execution_count": 26,
   "metadata": {},
   "outputs": [
    {
     "name": "stdout",
     "output_type": "stream",
     "text": [
      "             precision    recall  f1-score   support\n",
      "\n",
      "        0.0       0.73      0.74      0.74        78\n",
      "        1.0       0.81      0.80      0.81       107\n",
      "\n",
      "avg / total       0.78      0.78      0.78       185\n",
      "\n",
      "[[58 20]\n",
      " [21 86]]\n"
     ]
    }
   ],
   "source": [
    "print(classification_report(Y_test ,Y_pred6))\n",
    "print(confusion_matrix(Y_test ,Y_pred6))"
   ]
  },
  {
   "cell_type": "code",
   "execution_count": 27,
   "metadata": {},
   "outputs": [
    {
     "name": "stdout",
     "output_type": "stream",
     "text": [
      "Accuracy score using SVM  Classifier =  0.7783783783783784\n",
      "Training Score =  0.8018018018018018\n",
      "Testing Score =  1.0\n"
     ]
    }
   ],
   "source": [
    "print(\"Accuracy score using SVM  Classifier = \",accuracy_score(y_true = Y_test, y_pred = Y_pred6))\n",
    "\n",
    "print(\"Training Score = \",SVMclf.score(X_train,Y_train))\n",
    "print(\"Testing Score = \" ,SVMclf.score(X_test,Y_pred6))"
   ]
  },
  {
   "cell_type": "markdown",
   "metadata": {},
   "source": [
    "# Lets Plot the Decision Boundaries"
   ]
  },
  {
   "cell_type": "code",
   "execution_count": 31,
   "metadata": {},
   "outputs": [
    {
     "data": {
      "text/plain": [
       "SVC(C=5, cache_size=200, class_weight=None, coef0=0.0,\n",
       "  decision_function_shape='ovr', degree=3, gamma='auto', kernel='poly',\n",
       "  max_iter=-1, probability=False, random_state=None, shrinking=True,\n",
       "  tol=0.001, verbose=False)"
      ]
     },
     "execution_count": 31,
     "metadata": {},
     "output_type": "execute_result"
    }
   ],
   "source": [
    "clf = svm.SVC(C = 5,kernel  = 'poly')\n",
    "x = heartDisease[: ,0:2]   #Taking the Two Features only\n",
    "y = heartDisease[:,10]\n",
    "x_train, x_test, y_train, y_test = train_test_split(x, y, test_size=0.33, random_state=0)\n",
    "clf.fit(x_train,y_train)"
   ]
  },
  {
   "cell_type": "code",
   "execution_count": 32,
   "metadata": {},
   "outputs": [],
   "source": [
    "def makegrid(x1,x2,h=0.02):\n",
    "    x1_min, x1_max = x1.min() -1 ,x1.max() +1\n",
    "    x2_min, x2_max = x2.min() -1 ,x2.max() +1\n",
    "    a = np.arange(x1_min,x1_max,h)\n",
    "    b = np.arange(x2_min,x2_max,h)\n",
    "    xx,yy= np.meshgrid(a,b)\n",
    "    return xx,yy  "
   ]
  },
  {
   "cell_type": "code",
   "execution_count": 33,
   "metadata": {},
   "outputs": [
    {
     "data": {
      "image/png": "[encoded data removed]",
      "text/plain": [
       "<Figure size 432x288 with 1 Axes>"
      ]
     },
     "metadata": {},
     "output_type": "display_data"
    }
   ],
   "source": [
    "xx , yy = makegrid(x[:,0],x[:,1])\n",
    "predictions = clf.predict(np.c_[xx.ravel(),yy.ravel()])\n",
    "plt.scatter(xx.ravel(),yy.ravel(), c= predictions)\n",
    "plt.show()"
   ]
  },
  {
   "cell_type": "code",
   "execution_count": 34,
   "metadata": {},
   "outputs": [],
   "source": [
    "# Accuracy when using sigmoid kernel for Decision Boundaries"
   ]
  },
  {
   "cell_type": "code",
   "execution_count": 35,
   "metadata": {},
   "outputs": [
    {
     "name": "stdout",
     "output_type": "stream",
     "text": [
      "Accuracy score using SVM  Classifier =  0.7783783783783784\n",
      "Training Score =  0.8018018018018018\n",
      "Testing Score =  0.7783783783783784\n"
     ]
    }
   ],
   "source": [
    "print(\"Accuracy score using SVM  Classifier = \",accuracy_score(y_true = Y_test, y_pred = Y_pred6))\n",
    "\n",
    "print(\"Training Score = \",SVMclf.score(X_train,Y_train))\n",
    "print(\"Testing Score = \" ,SVMclf.score(X_test,Y_test))"
   ]
  },
  {
   "cell_type": "code",
   "execution_count": 36,
   "metadata": {},
   "outputs": [],
   "source": [
    "from sklearn.decomposition import PCA\n",
    "from sklearn.model_selection import train_test_split"
   ]
  },
  {
   "cell_type": "code",
   "execution_count": 37,
   "metadata": {},
   "outputs": [],
   "source": [
    "pca = PCA()\n",
    "X_new = pca.fit_transform(X)"
   ]
  },
  {
   "cell_type": "code",
   "execution_count": null,
   "metadata": {},
   "outputs": [],
   "source": []
  },
  {
   "cell_type": "markdown",
   "metadata": {},
   "source": [
    "# 5. Applying Random Forest Algorithm. "
   ]
  },
  {
   "cell_type": "code",
   "execution_count": 38,
   "metadata": {},
   "outputs": [
    {
     "name": "stdout",
     "output_type": "stream",
     "text": [
      "Accuracy score using Random FOrest Classifier Classifier =  0.8108108108108109\n",
      "Training Score =  1.0\n",
      "Testing Score =  0.8108108108108109\n"
     ]
    }
   ],
   "source": [
    "RFclf = RandomForestClassifier(random_state = 0, criterion='gini',n_estimators = 500,max_features = 5,max_depth = 12)\n",
    "RFclf.fit(X_train ,Y_train)\n",
    "Y_pred3 = RFclf.predict(X_test)\n",
    "\n",
    "print(\"Accuracy score using Random FOrest Classifier Classifier = \",accuracy_score(y_true = Y_test, y_pred = Y_pred3))\n",
    "\n",
    "print(\"Training Score = \",RFclf.score(X_train,Y_train))\n",
    "print(\"Testing Score = \" ,RFclf.score(X_test,Y_test))"
   ]
  },
  {
   "cell_type": "markdown",
   "metadata": {},
   "source": [
    "# Lets check what imporatnce of each feature is in our Random Forest Classifier"
   ]
  },
  {
   "cell_type": "code",
   "execution_count": 39,
   "metadata": {},
   "outputs": [
    {
     "data": {
      "text/plain": [
       "array([2, 7, 4, 8, 9, 0, 3, 1, 6, 5], dtype=int64)"
      ]
     },
     "execution_count": 39,
     "metadata": {},
     "output_type": "execute_result"
    }
   ],
   "source": [
    "importancesRF = RFclf.feature_importances_\n",
    "indicesRF = np.argsort(importancesRF)[::-1]\n",
    "indicesRF"
   ]
  },
  {
   "cell_type": "code",
   "execution_count": 41,
   "metadata": {},
   "outputs": [
    {
     "name": "stdout",
     "output_type": "stream",
     "text": [
      "Feature ranking:\n",
      "1. The feature 'cp' has a Gini Importance of 0.188226\n",
      "2. The feature 'thalach' has a Gini Importance of 0.142960\n",
      "3. The feature 'chol' has a Gini Importance of 0.129675\n",
      "4. The feature 'exang' has a Gini Importance of 0.116763\n",
      "5. The feature 'oldpeak' has a Gini Importance of 0.115342\n",
      "6. The feature 'age' has a Gini Importance of 0.114252\n",
      "7. The feature 'trestbps' has a Gini Importance of 0.100512\n",
      "8. The feature 'sex' has a Gini Importance of 0.043155\n",
      "9. The feature 'restecg' has a Gini Importance of 0.029168\n",
      "10. The feature 'fbs' has a Gini Importance of 0.019947\n"
     ]
    }
   ],
   "source": [
    "namesInd = features[:12]\n",
    "print(\"Feature ranking:\")\n",
    "\n",
    "for f in range(10):\n",
    "    i = f\n",
    "    print(\"%d. The feature '%s' has a Gini Importance of %f\" % (f + 1, namesInd[indicesRF[i]], importancesRF[indicesRF[f]]))\n"
   ]
  },
  {
   "cell_type": "markdown",
   "metadata": {},
   "source": [
    "# Crosstab of the Random Forest. "
   ]
  },
  {
   "cell_type": "code",
   "execution_count": 42,
   "metadata": {},
   "outputs": [
    {
     "name": "stdout",
     "output_type": "stream",
     "text": [
      "Actual_Values     0.0  1.0\n",
      "Predicted_Values          \n",
      "0.0                77    0\n",
      "1.0                 0  108\n",
      "Mean Accuracy on the Training Data : 100.0 %\n"
     ]
    }
   ],
   "source": [
    "predictions_RF = RFclf.predict(X_test)\n",
    "print(pd.crosstab(predictions_RF, Y_pred3, \n",
    "                  rownames=['Predicted_Values'], \n",
    "                  colnames=['Actual_Values']))\n",
    "\n",
    "accuracy_RF = RFclf.score(X_train, Y_train)\n",
    "\n",
    "print(\"Mean Accuracy on the Training Data : {} %\".format(accuracy_RF * 100))"
   ]
  },
  {
   "cell_type": "markdown",
   "metadata": {},
   "source": [
    "# 6. Applying Naive Bayes Algorithm. "
   ]
  },
  {
   "cell_type": "code",
   "execution_count": 43,
   "metadata": {},
   "outputs": [
    {
     "name": "stdout",
     "output_type": "stream",
     "text": [
      "             precision    recall  f1-score   support\n",
      "\n",
      "        0.0       0.80      0.71      0.75        78\n",
      "        1.0       0.80      0.87      0.83       107\n",
      "\n",
      "avg / total       0.80      0.80      0.80       185\n",
      "\n",
      "[[55 23]\n",
      " [14 93]]\n"
     ]
    }
   ],
   "source": [
    "from sklearn.naive_bayes import GaussianNB\n",
    "NBclf = GaussianNB()\n",
    "NBclf.fit(X_train , Y_train)\n",
    "Y_pred4 = NBclf.predict(X_test)\n",
    "print(classification_report(Y_test ,Y_pred4))\n",
    "print(confusion_matrix(Y_test ,Y_pred4))"
   ]
  },
  {
   "cell_type": "code",
   "execution_count": 44,
   "metadata": {},
   "outputs": [
    {
     "name": "stdout",
     "output_type": "stream",
     "text": [
      "Accuracy score using Naive Bayes Classifier Classifier =  0.8108108108108109\n",
      "Training Score =  0.8036036036036036\n",
      "Testing Score =  0.8\n"
     ]
    }
   ],
   "source": [
    "print(\"Accuracy score using Naive Bayes Classifier Classifier = \",accuracy_score(y_true = Y_test, y_pred = Y_pred3))\n",
    "\n",
    "print(\"Training Score = \",NBclf.score(X_train,Y_train))\n",
    "print(\"Testing Score = \" ,NBclf.score(X_test,Y_test))"
   ]
  },
  {
   "cell_type": "markdown",
   "metadata": {},
   "source": [
    "# Naive Bayes"
   ]
  },
  {
   "cell_type": "code",
   "execution_count": 52,
   "metadata": {},
   "outputs": [],
   "source": [
    "from sklearn.preprocessing import Imputer\n",
    "from sklearn.preprocessing import StandardScaler\n",
    "from sklearn.pipeline import Pipeline\n",
    "\n",
    "class Prediction:\n",
    "    def __init__(self):\n",
    "        self.X = []\n",
    "        self.Y = []\n",
    "# Function \"Cleaning_Data()\" For cleaning the data\n",
    "    def Cleaning_Data(self,dataset):\n",
    "        featurenames = ['age', 'sex', 'cp', 'trestbps', 'chol', 'fbs', 'restecg', 'thalach', 'exang', 'oldpeak', 'slope', 'ca', 'thal', 'heartdisease']\n",
    "\n",
    "        df = pd.read_csv(dataset, names=featurenames)\n",
    "        del df['ca']\n",
    "        del df['slope']\n",
    "        del df['thal']\n",
    "        featurenames = ['age', 'sex', 'cp', 'trestbps', 'chol', 'fbs', 'restecg', 'thalach', 'exang', 'oldpeak','heartdisease']\n",
    "        df = df.replace('[?]', np.nan, regex=True)\n",
    "        df = pd.DataFrame(Imputer(missing_values='NaN', strategy='mean', axis=0).fit_transform(df), columns=featurenames)\n",
    "        df = df.astype(float)\n",
    "        return df\n",
    "    \n",
    "# Function \"Split_Dataset()\" For splitting data into input and output\n",
    "    def Splitting_Dataset(self, df):\n",
    "        self.Y = df['heartdisease'].apply(lambda x: 1 if x > 0 else 0)\n",
    "        self.X = df.drop('heartdisease', axis=1)\n",
    "    \n",
    "        self.X_train, self.X_test, self.Y_train, self.Y_test = train_test_split(self.X, self.Y, test_size=0.33, random_state=0)\n",
    "\n",
    "# function Create_Pipeline() \n",
    "    def Create_Pipeline(self):\n",
    "        estimators_list = []\n",
    "        estimators_list.append(('standardize', StandardScaler()))\n",
    "        estimators_list.append(('bayes', GaussianNB()))\n",
    "        model = Pipeline(estimators_list)\n",
    "        return model\n",
    "\n",
    "    def Cross_Validate(self, clf, cv=5):\n",
    "        scores = cross_val_score(clf, self.X_test, self.Y_test, cv=cv, scoring='f1')\n",
    "        score = scores.mean()\n",
    "        Y_pred4 = clf.predict(self.X_test)\n",
    "        print(\"Cross Validation Scores mean: \",score)\n",
    "        print(\"Accuracy score using Naive Bayes Classifier = \",accuracy_score(y_true = self.Y_test, y_pred = Y_pred4))\n",
    "\n",
    "        print(\"Naive Nayes Testing Score = \" ,clf.score(self.X_test,self.Y_test))\n",
    "        \n",
    "\n",
    "    def Training_Score(self, clf):\n",
    "        clf.fit(self.X_train, self.Y_train)\n",
    "        fit_score = clf.score(self.X_train, self.Y_train)\n",
    "        print(\"Naive Bayes Training Score = \" ,clf.score(self.X_train,self.Y_train))\n",
    "\n",
    "    def ReturnPredictionValue(self, clf, sample):\n",
    "        y = clf.predict([sample])\n",
    "        return y[0]\n",
    "\n",
    "    def Reading_Data(self, sample, dataset_path):\n",
    "        #print(\"dataset: \", dataset_path[0],dataset_path[1],dataset_path[2],dataset_path[3])\n",
    "        data1 = self.Cleaning_Data(dataset_path[0])\n",
    "        data2 = self.Cleaning_Data(dataset_path[1])\n",
    "        data3 = self.Cleaning_Data(dataset_path[2])\n",
    "        data4 = self.Cleaning_Data(dataset_path[3])\n",
    "        data = [data1,data2,data3,data4]\n",
    "        data = pd.concat(data)\n",
    "        self.Splitting_Dataset(data)\n",
    "        self.model = self.Create_Pipeline()\n",
    "        self.Training_Score(self.model)\n",
    "        self.Cross_Validate(self.model, 13)\n",
    "        return self.ReturnPredictionValue(self.model, sample)"
   ]
  },
  {
   "cell_type": "code",
   "execution_count": 53,
   "metadata": {},
   "outputs": [
    {
     "name": "stdout",
     "output_type": "stream",
     "text": [
      "Naive Bayes Training Score =  0.8262295081967214\n",
      "Cross Validation Scores mean:  0.8619405789305455\n",
      "Accuracy score using Naive Bayes Classifier =  0.8704318936877077\n",
      "Naive Nayes Testing Score =  0.8704318936877077\n",
      "Predicted value for the given Sample input : 0\n",
      "Actual value for the given Sample input : 0 \n"
     ]
    }
   ],
   "source": [
    "Cleveland_data_URL = 'http://archive.ics.uci.edu/ml/machine-learning-databases/heart-disease/processed.hungarian.data'\n",
    "Hungarian_data_URL = 'http://archive.ics.uci.edu/ml/machine-learning-databases/heart-disease/processed.hungarian.data'\n",
    "Switzerland_data_URL = 'http://archive.ics.uci.edu/ml/machine-learning-databases/heart-disease/processed.switzerland.data'\n",
    "V_A_URL = 'http://archive.ics.uci.edu/ml/machine-learning-databases/heart-disease/processed.va.data'\n",
    "\n",
    "names = ['age', 'sex', 'cp', 'trestbps', 'chol', 'fbs', 'restecg', 'thalach', 'exang', 'oldpeak', 'slope', 'ca', 'thal', 'heartdisease']\n",
    "datatemp = [Cleveland_data_URL, Hungarian_data_URL, Switzerland_data_URL ,V_A_URL]     #combining data from 3 datasets into single dataset \n",
    "\n",
    "if __name__ == '__main__':\n",
    "    sample = [41.0, 0.0, 2.0, 130.0, 204.0, 0.0, 2.0, 172.0, 0.0, 1.4]\n",
    "    p = Prediction()\n",
    "    print(\"Predicted value for the given Sample input : {}\".format(p.Reading_Data(sample,datatemp)))\n",
    "    print(\"Actual value for the given Sample input : 0 \")"
   ]
  },
  {
   "cell_type": "markdown",
   "metadata": {},
   "source": [
    "# Applying PCA (Principle of Component Analysis) "
   ]
  },
  {
   "cell_type": "code",
   "execution_count": 54,
   "metadata": {},
   "outputs": [],
   "source": [
    "Cleveland_data_URL = 'http://archive.ics.uci.edu/ml/machine-learning-databases/heart-disease/processed.hungarian.data'\n",
    "Hungarian_data_URL = 'http://archive.ics.uci.edu/ml/machine-learning-databases/heart-disease/processed.hungarian.data'\n",
    "Switzerland_data_URL = 'http://archive.ics.uci.edu/ml/machine-learning-databases/heart-disease/processed.switzerland.data'\n",
    "V_A_URL = 'http://archive.ics.uci.edu/ml/machine-learning-databases/heart-disease/processed.va.data'\n",
    "\n",
    "names = ['age', 'sex', 'cp', 'trestbps', 'chol', 'fbs', 'restecg', 'thalach', 'exang', 'oldpeak', 'slope', 'ca', 'thal', 'heartdisease']\n",
    "ClevelandHeartDisease = pd.read_csv(urlopen(Cleveland_data_URL), names = names)        #gets Cleveland data\n",
    "HungarianHeartDisease = pd.read_csv(urlopen(Hungarian_data_URL), names = names)        #gets Hungary data\n",
    "SwitzerlandHeartDisease = pd.read_csv(urlopen(Switzerland_data_URL), names = names)    #gets Switzerland data\n",
    "LongBeachHeartDisease = pd.read_csv(urlopen(V_A_URL), names = names) \n",
    "datatemp = [ClevelandHeartDisease, HungarianHeartDisease, SwitzerlandHeartDisease,LongBeachHeartDisease]     #combining data from 3 datasets into single dataset \n",
    "heartDisease = pd.concat(datatemp)          #combines list into one array\n",
    "del heartDisease['ca']\n",
    "del heartDisease['slope']\n",
    "del heartDisease['thal']"
   ]
  },
  {
   "cell_type": "code",
   "execution_count": 55,
   "metadata": {},
   "outputs": [],
   "source": [
    "heartDisease = heartDisease.replace(\"?\",np.nan)"
   ]
  },
  {
   "cell_type": "code",
   "execution_count": 56,
   "metadata": {},
   "outputs": [],
   "source": [
    "heartDisease = heartDisease.dropna()"
   ]
  },
  {
   "cell_type": "code",
   "execution_count": 57,
   "metadata": {},
   "outputs": [],
   "source": [
    "#converts everything to floats\n",
    "for item in heartDisease: \n",
    "    heartDisease[item] = pd.to_numeric(heartDisease[item])\n",
    "\n",
    "#Feature Scaling \n",
    "\n",
    "def normalize(heartDisease, toNormalize):\n",
    "    result = heartDisease.copy()\n",
    "    for item in heartDisease.columns:\n",
    "        if (item in toNormalize):\n",
    "            max_value = heartDisease[item].max()\n",
    "            min_value = heartDisease[item].min()\n",
    "            result[item] = (heartDisease[item] - min_value) / (max_value - min_value)\n",
    "    return result\n",
    "\n",
    "#we are Normalizing the following features.\n",
    "\n",
    "toNormalize = ['age', 'cp', 'trestbps', 'chol','restecg', 'thalach', 'oldpeak']\n",
    "heartDisease = normalize(heartDisease, toNormalize)\n"
   ]
  },
  {
   "cell_type": "code",
   "execution_count": 58,
   "metadata": {},
   "outputs": [],
   "source": [
    "Y = heartDisease['heartdisease'].apply(lambda x: 1 if x > 0 else 0)\n",
    "X = heartDisease.drop('heartdisease', axis=1)\n",
    "    "
   ]
  },
  {
   "cell_type": "code",
   "execution_count": 59,
   "metadata": {},
   "outputs": [],
   "source": [
    "from sklearn.decomposition import PCA\n",
    "from sklearn.model_selection import train_test_split\n"
   ]
  },
  {
   "cell_type": "code",
   "execution_count": 60,
   "metadata": {},
   "outputs": [],
   "source": [
    "pca = PCA()"
   ]
  },
  {
   "cell_type": "code",
   "execution_count": 61,
   "metadata": {},
   "outputs": [],
   "source": [
    "X = pca.fit_transform(X)"
   ]
  },
  {
   "cell_type": "code",
   "execution_count": 62,
   "metadata": {},
   "outputs": [],
   "source": [
    "x_train_pca,x_test_pca,y_train_pca,y_test_pca = train_test_split(X,Y,random_state = 0 ,test_size = 0.33)"
   ]
  },
  {
   "cell_type": "code",
   "execution_count": 63,
   "metadata": {},
   "outputs": [
    {
     "name": "stdout",
     "output_type": "stream",
     "text": [
      "             precision    recall  f1-score   support\n",
      "\n",
      "        0.0       0.70      0.56      0.63       108\n",
      "        1.0       0.70      0.81      0.75       137\n",
      "\n",
      "avg / total       0.70      0.70      0.70       245\n",
      "\n",
      "[[ 61  47]\n",
      " [ 26 111]]\n"
     ]
    }
   ],
   "source": [
    "from sklearn.naive_bayes import GaussianNB\n",
    "NBclf = GaussianNB()\n",
    "NBclf.fit(x_train , y_train)\n",
    "y_pred4 = NBclf.predict(x_test)\n",
    "print(classification_report(y_test ,y_pred4))\n",
    "print(confusion_matrix(y_test ,y_pred4))"
   ]
  },
  {
   "cell_type": "code",
   "execution_count": 64,
   "metadata": {},
   "outputs": [
    {
     "name": "stdout",
     "output_type": "stream",
     "text": [
      "Accuracy score using Naive Bayes Classifier =  0.7020408163265306\n",
      "Training Score =  0.6686868686868687\n",
      "Testing Score =  0.7020408163265306\n"
     ]
    }
   ],
   "source": [
    "print(\"Accuracy score using Naive Bayes Classifier = \",accuracy_score(y_true = y_test, y_pred = y_pred4))\n",
    "\n",
    "print(\"Training Score = \",NBclf.score(x_train,y_train))\n",
    "print(\"Testing Score = \" ,NBclf.score(x_test,y_test))"
   ]
  },
  {
   "cell_type": "markdown",
   "metadata": {},
   "source": [
    "# Accuracy of Each Algorithms"
   ]
  },
  {
   "cell_type": "code",
   "execution_count": 65,
   "metadata": {},
   "outputs": [],
   "source": [
    "accuracy1 = []\n",
    "accuracy2 = []\n",
    "\n",
    "# list of algorithms names\n",
    "classifiers = ['Logistic Regression', 'Decision Trees','KNN', 'SVM','Random Forests','Naive Bayes' ]\n",
    "\n",
    "# list of algorithms with parameters\n",
    "models = [KNeighborsClassifier(n_neighbors = 7), DecisionTreeClassifier(max_leaf_nodes=11, random_state=0), LogisticRegression(), \n",
    "        GaussianNB(), svm.SVC(C=5, kernel='linear'), RandomForestClassifier(random_state = 0, criterion='gini',n_estimators = 500,max_features = 5,max_depth = 10)]\n",
    "\n",
    "for i in models:\n",
    "    model = i\n",
    "    model.fit(x_train_pca, y_train_pca)\n",
    "    y_predd_pca = model.predict(x_test_pca)\n",
    "    score = model.score(x_test_pca, y_test_pca)\n",
    "    score_train = model.score(x_train_pca, y_train_pca)\n",
    "    accuracy1.append(score)\n",
    "    accuracy2.append(score_train)\n",
    "\n"
   ]
  },
  {
   "cell_type": "code",
   "execution_count": 66,
   "metadata": {},
   "outputs": [
    {
     "data": {
      "text/html": [
       "<div>\n",
       "<style scoped>\n",
       "    .dataframe tbody tr th:only-of-type {\n",
       "        vertical-align: middle;\n",
       "    }\n",
       "\n",
       "    .dataframe tbody tr th {\n",
       "        vertical-align: top;\n",
       "    }\n",
       "\n",
       "    .dataframe thead th {\n",
       "        text-align: right;\n",
       "    }\n",
       "</style>\n",
       "<table border=\"1\" class=\"dataframe\">\n",
       "  <thead>\n",
       "    <tr style=\"text-align: right;\">\n",
       "      <th></th>\n",
       "      <th>test_accuracy</th>\n",
       "      <th>train_accuracy</th>\n",
       "    </tr>\n",
       "  </thead>\n",
       "  <tbody>\n",
       "    <tr>\n",
       "      <th>Logistic Regression</th>\n",
       "      <td>0.822511</td>\n",
       "      <td>0.854390</td>\n",
       "    </tr>\n",
       "    <tr>\n",
       "      <th>Decision Trees</th>\n",
       "      <td>0.852814</td>\n",
       "      <td>0.882227</td>\n",
       "    </tr>\n",
       "    <tr>\n",
       "      <th>KNN</th>\n",
       "      <td>0.839827</td>\n",
       "      <td>0.809422</td>\n",
       "    </tr>\n",
       "    <tr>\n",
       "      <th>SVM</th>\n",
       "      <td>0.831169</td>\n",
       "      <td>0.813704</td>\n",
       "    </tr>\n",
       "    <tr>\n",
       "      <th>Random Forests</th>\n",
       "      <td>0.835498</td>\n",
       "      <td>0.805139</td>\n",
       "    </tr>\n",
       "    <tr>\n",
       "      <th>Naive Bayes</th>\n",
       "      <td>0.900433</td>\n",
       "      <td>1.000000</td>\n",
       "    </tr>\n",
       "  </tbody>\n",
       "</table>\n",
       "</div>"
      ],
      "text/plain": [
       "                     test_accuracy  train_accuracy\n",
       "Logistic Regression       0.822511        0.854390\n",
       "Decision Trees            0.852814        0.882227\n",
       "KNN                       0.839827        0.809422\n",
       "SVM                       0.831169        0.813704\n",
       "Random Forests            0.835498        0.805139\n",
       "Naive Bayes               0.900433        1.000000"
      ]
     },
     "execution_count": 66,
     "metadata": {},
     "output_type": "execute_result"
    }
   ],
   "source": [
    "# printing the Algorithms and corresponding Accuracy\n",
    "summary = pd.DataFrame({'test_accuracy':accuracy1,'train_accuracy':accuracy2}, index=classifiers)       \n",
    "summary"
   ]
  },
  {
   "cell_type": "markdown",
   "metadata": {},
   "source": [
    "# Dealing with manually created data wich contains 41 types of diseases"
   ]
  },
  {
   "cell_type": "code",
   "execution_count": 67,
   "metadata": {},
   "outputs": [],
   "source": [
    "# Data for training the models\n",
    "data = pd.read_csv(\"Manual-Data/Training.csv\")"
   ]
  },
  {
   "cell_type": "code",
   "execution_count": 68,
   "metadata": {},
   "outputs": [
    {
     "name": "stdout",
     "output_type": "stream",
     "text": [
      "Shape of the the data :  (4920, 133)\n",
      "Features present in dataset :  Index(['itching', 'skin_rash', 'nodal_skin_eruptions', 'continuous_sneezing',\n",
      "       'shivering', 'chills', 'joint_pain', 'stomach_pain', 'acidity',\n",
      "       'ulcers_on_tongue',\n",
      "       ...\n",
      "       'blackheads', 'scurring', 'skin_peeling', 'silver_like_dusting',\n",
      "       'small_dents_in_nails', 'inflammatory_nails', 'blister',\n",
      "       'red_sore_around_nose', 'yellow_crust_ooze', 'prognosis'],\n",
      "      dtype='object', length=133)\n",
      "Number of features present :  133\n"
     ]
    }
   ],
   "source": [
    "print(\"Shape of the the data : \",data.shape)\n",
    "print(\"Features present in dataset : \",data.columns)\n",
    "print(\"Number of features present : \",len(data.columns))"
   ]
  },
  {
   "cell_type": "code",
   "execution_count": 69,
   "metadata": {},
   "outputs": [
    {
     "name": "stdout",
     "output_type": "stream",
     "text": [
      "Number of diseases available in the dataset :  41\n"
     ]
    }
   ],
   "source": [
    "print(\"Number of diseases available in the dataset : \",len(data['prognosis'].unique()))"
   ]
  },
  {
   "cell_type": "code",
   "execution_count": 70,
   "metadata": {},
   "outputs": [],
   "source": [
    "df = pd.DataFrame(data)"
   ]
  },
  {
   "cell_type": "code",
   "execution_count": 71,
   "metadata": {},
   "outputs": [
    {
     "name": "stdout",
     "output_type": "stream",
     "text": [
      "(4920, 133)\n"
     ]
    },
    {
     "data": {
      "text/html": [
       "<div>\n",
       "<style scoped>\n",
       "    .dataframe tbody tr th:only-of-type {\n",
       "        vertical-align: middle;\n",
       "    }\n",
       "\n",
       "    .dataframe tbody tr th {\n",
       "        vertical-align: top;\n",
       "    }\n",
       "\n",
       "    .dataframe thead th {\n",
       "        text-align: right;\n",
       "    }\n",
       "</style>\n",
       "<table border=\"1\" class=\"dataframe\">\n",
       "  <thead>\n",
       "    <tr style=\"text-align: right;\">\n",
       "      <th></th>\n",
       "      <th>itching</th>\n",
       "      <th>skin_rash</th>\n",
       "      <th>nodal_skin_eruptions</th>\n",
       "      <th>continuous_sneezing</th>\n",
       "      <th>shivering</th>\n",
       "      <th>chills</th>\n",
       "      <th>joint_pain</th>\n",
       "      <th>stomach_pain</th>\n",
       "      <th>acidity</th>\n",
       "      <th>ulcers_on_tongue</th>\n",
       "      <th>...</th>\n",
       "      <th>blackheads</th>\n",
       "      <th>scurring</th>\n",
       "      <th>skin_peeling</th>\n",
       "      <th>silver_like_dusting</th>\n",
       "      <th>small_dents_in_nails</th>\n",
       "      <th>inflammatory_nails</th>\n",
       "      <th>blister</th>\n",
       "      <th>red_sore_around_nose</th>\n",
       "      <th>yellow_crust_ooze</th>\n",
       "      <th>prognosis</th>\n",
       "    </tr>\n",
       "  </thead>\n",
       "  <tbody>\n",
       "    <tr>\n",
       "      <th>0</th>\n",
       "      <td>1</td>\n",
       "      <td>1</td>\n",
       "      <td>1</td>\n",
       "      <td>0</td>\n",
       "      <td>0</td>\n",
       "      <td>0</td>\n",
       "      <td>0</td>\n",
       "      <td>0</td>\n",
       "      <td>0</td>\n",
       "      <td>0</td>\n",
       "      <td>...</td>\n",
       "      <td>0</td>\n",
       "      <td>0</td>\n",
       "      <td>0</td>\n",
       "      <td>0</td>\n",
       "      <td>0</td>\n",
       "      <td>0</td>\n",
       "      <td>0</td>\n",
       "      <td>0</td>\n",
       "      <td>0</td>\n",
       "      <td>Fungal infection</td>\n",
       "    </tr>\n",
       "    <tr>\n",
       "      <th>1</th>\n",
       "      <td>0</td>\n",
       "      <td>1</td>\n",
       "      <td>1</td>\n",
       "      <td>0</td>\n",
       "      <td>0</td>\n",
       "      <td>0</td>\n",
       "      <td>0</td>\n",
       "      <td>0</td>\n",
       "      <td>0</td>\n",
       "      <td>0</td>\n",
       "      <td>...</td>\n",
       "      <td>0</td>\n",
       "      <td>0</td>\n",
       "      <td>0</td>\n",
       "      <td>0</td>\n",
       "      <td>0</td>\n",
       "      <td>0</td>\n",
       "      <td>0</td>\n",
       "      <td>0</td>\n",
       "      <td>0</td>\n",
       "      <td>Fungal infection</td>\n",
       "    </tr>\n",
       "    <tr>\n",
       "      <th>2</th>\n",
       "      <td>1</td>\n",
       "      <td>0</td>\n",
       "      <td>1</td>\n",
       "      <td>0</td>\n",
       "      <td>0</td>\n",
       "      <td>0</td>\n",
       "      <td>0</td>\n",
       "      <td>0</td>\n",
       "      <td>0</td>\n",
       "      <td>0</td>\n",
       "      <td>...</td>\n",
       "      <td>0</td>\n",
       "      <td>0</td>\n",
       "      <td>0</td>\n",
       "      <td>0</td>\n",
       "      <td>0</td>\n",
       "      <td>0</td>\n",
       "      <td>0</td>\n",
       "      <td>0</td>\n",
       "      <td>0</td>\n",
       "      <td>Fungal infection</td>\n",
       "    </tr>\n",
       "    <tr>\n",
       "      <th>3</th>\n",
       "      <td>1</td>\n",
       "      <td>1</td>\n",
       "      <td>0</td>\n",
       "      <td>0</td>\n",
       "      <td>0</td>\n",
       "      <td>0</td>\n",
       "      <td>0</td>\n",
       "      <td>0</td>\n",
       "      <td>0</td>\n",
       "      <td>0</td>\n",
       "      <td>...</td>\n",
       "      <td>0</td>\n",
       "      <td>0</td>\n",
       "      <td>0</td>\n",
       "      <td>0</td>\n",
       "      <td>0</td>\n",
       "      <td>0</td>\n",
       "      <td>0</td>\n",
       "      <td>0</td>\n",
       "      <td>0</td>\n",
       "      <td>Fungal infection</td>\n",
       "    </tr>\n",
       "    <tr>\n",
       "      <th>4</th>\n",
       "      <td>1</td>\n",
       "      <td>1</td>\n",
       "      <td>1</td>\n",
       "      <td>0</td>\n",
       "      <td>0</td>\n",
       "      <td>0</td>\n",
       "      <td>0</td>\n",
       "      <td>0</td>\n",
       "      <td>0</td>\n",
       "      <td>0</td>\n",
       "      <td>...</td>\n",
       "      <td>0</td>\n",
       "      <td>0</td>\n",
       "      <td>0</td>\n",
       "      <td>0</td>\n",
       "      <td>0</td>\n",
       "      <td>0</td>\n",
       "      <td>0</td>\n",
       "      <td>0</td>\n",
       "      <td>0</td>\n",
       "      <td>Fungal infection</td>\n",
       "    </tr>\n",
       "  </tbody>\n",
       "</table>\n",
       "<p>5 rows × 133 columns</p>\n",
       "</div>"
      ],
      "text/plain": [
       "   itching  skin_rash  nodal_skin_eruptions  continuous_sneezing  shivering  \\\n",
       "0        1          1                     1                    0          0   \n",
       "1        0          1                     1                    0          0   \n",
       "2        1          0                     1                    0          0   \n",
       "3        1          1                     0                    0          0   \n",
       "4        1          1                     1                    0          0   \n",
       "\n",
       "   chills  joint_pain  stomach_pain  acidity  ulcers_on_tongue  \\\n",
       "0       0           0             0        0                 0   \n",
       "1       0           0             0        0                 0   \n",
       "2       0           0             0        0                 0   \n",
       "3       0           0             0        0                 0   \n",
       "4       0           0             0        0                 0   \n",
       "\n",
       "         ...         blackheads  scurring  skin_peeling  silver_like_dusting  \\\n",
       "0        ...                  0         0             0                    0   \n",
       "1        ...                  0         0             0                    0   \n",
       "2        ...                  0         0             0                    0   \n",
       "3        ...                  0         0             0                    0   \n",
       "4        ...                  0         0             0                    0   \n",
       "\n",
       "   small_dents_in_nails  inflammatory_nails  blister  red_sore_around_nose  \\\n",
       "0                     0                   0        0                     0   \n",
       "1                     0                   0        0                     0   \n",
       "2                     0                   0        0                     0   \n",
       "3                     0                   0        0                     0   \n",
       "4                     0                   0        0                     0   \n",
       "\n",
       "   yellow_crust_ooze         prognosis  \n",
       "0                  0  Fungal infection  \n",
       "1                  0  Fungal infection  \n",
       "2                  0  Fungal infection  \n",
       "3                  0  Fungal infection  \n",
       "4                  0  Fungal infection  \n",
       "\n",
       "[5 rows x 133 columns]"
      ]
     },
     "execution_count": 71,
     "metadata": {},
     "output_type": "execute_result"
    }
   ],
   "source": [
    "print(df.shape)\n",
    "df.head()"
   ]
  },
  {
   "cell_type": "code",
   "execution_count": 72,
   "metadata": {},
   "outputs": [
    {
     "name": "stdout",
     "output_type": "stream",
     "text": [
      "Index(['itching', 'skin_rash', 'nodal_skin_eruptions', 'continuous_sneezing',\n",
      "       'shivering', 'chills', 'joint_pain', 'stomach_pain', 'acidity',\n",
      "       'ulcers_on_tongue',\n",
      "       ...\n",
      "       'pus_filled_pimples', 'blackheads', 'scurring', 'skin_peeling',\n",
      "       'silver_like_dusting', 'small_dents_in_nails', 'inflammatory_nails',\n",
      "       'blister', 'red_sore_around_nose', 'yellow_crust_ooze'],\n",
      "      dtype='object', length=132)\n"
     ]
    }
   ],
   "source": [
    "columns = df.columns\n",
    "columns = columns[:-1]\n",
    "print(columns)"
   ]
  },
  {
   "cell_type": "code",
   "execution_count": 73,
   "metadata": {},
   "outputs": [],
   "source": [
    "X = df[columns]\n",
    "Y = df['prognosis']"
   ]
  },
  {
   "cell_type": "markdown",
   "metadata": {},
   "source": [
    "# Splitting Data into training and testing data"
   ]
  },
  {
   "cell_type": "code",
   "execution_count": 74,
   "metadata": {},
   "outputs": [],
   "source": [
    "x_train_man,x_test_man,y_train_man,y_test_man = train_test_split(X,Y,random_state = 0 ,test_size = 0.33)"
   ]
  },
  {
   "cell_type": "markdown",
   "metadata": {},
   "source": [
    "# Training Multinomial Naive Bayes Classifier"
   ]
  },
  {
   "cell_type": "code",
   "execution_count": 75,
   "metadata": {},
   "outputs": [],
   "source": [
    "import pandas as pd\n",
    "import seaborn as sns\n",
    "import matplotlib.pyplot as plt\n",
    "%matplotlib inline\n",
    "from sklearn.naive_bayes import MultinomialNB"
   ]
  },
  {
   "cell_type": "code",
   "execution_count": 76,
   "metadata": {},
   "outputs": [],
   "source": [
    "mnb = MultinomialNB()\n",
    "mnb = mnb.fit(x_train_man, y_train_man)"
   ]
  },
  {
   "cell_type": "code",
   "execution_count": 77,
   "metadata": {},
   "outputs": [],
   "source": [
    "# Data for testing the trained Models\n",
    "#test_data = pd.read_csv(\"Manual-Data/Testing.csv\")"
   ]
  },
  {
   "cell_type": "code",
   "execution_count": 78,
   "metadata": {},
   "outputs": [],
   "source": [
    "#testx = test_data[columns]\n",
    "#testy = test_data['prognosis']"
   ]
  },
  {
   "cell_type": "code",
   "execution_count": 79,
   "metadata": {},
   "outputs": [
    {
     "name": "stdout",
     "output_type": "stream",
     "text": [
      "                                         precision    recall  f1-score   support\n",
      "\n",
      "(vertigo) Paroymsal  Positional Vertigo       1.00      1.00      1.00        35\n",
      "                                   AIDS       1.00      1.00      1.00        34\n",
      "                                   Acne       1.00      1.00      1.00        42\n",
      "                    Alcoholic hepatitis       1.00      1.00      1.00        37\n",
      "                                Allergy       1.00      1.00      1.00        39\n",
      "                              Arthritis       1.00      1.00      1.00        40\n",
      "                       Bronchial Asthma       1.00      1.00      1.00        44\n",
      "                   Cervical spondylosis       1.00      1.00      1.00        47\n",
      "                            Chicken pox       1.00      1.00      1.00        38\n",
      "                    Chronic cholestasis       1.00      1.00      1.00        37\n",
      "                            Common Cold       1.00      1.00      1.00        44\n",
      "                                 Dengue       1.00      1.00      1.00        33\n",
      "                              Diabetes        1.00      1.00      1.00        38\n",
      "           Dimorphic hemmorhoids(piles)       1.00      1.00      1.00        45\n",
      "                          Drug Reaction       1.00      1.00      1.00        44\n",
      "                       Fungal infection       1.00      1.00      1.00        35\n",
      "                                   GERD       1.00      1.00      1.00        43\n",
      "                        Gastroenteritis       1.00      1.00      1.00        40\n",
      "                           Heart attack       1.00      1.00      1.00        53\n",
      "                            Hepatitis B       1.00      1.00      1.00        33\n",
      "                            Hepatitis C       1.00      1.00      1.00        33\n",
      "                            Hepatitis D       1.00      1.00      1.00        47\n",
      "                            Hepatitis E       1.00      1.00      1.00        39\n",
      "                          Hypertension        1.00      1.00      1.00        37\n",
      "                        Hyperthyroidism       1.00      1.00      1.00        39\n",
      "                           Hypoglycemia       1.00      1.00      1.00        24\n",
      "                         Hypothyroidism       1.00      1.00      1.00        36\n",
      "                               Impetigo       1.00      1.00      1.00        41\n",
      "                               Jaundice       1.00      1.00      1.00        38\n",
      "                                Malaria       1.00      1.00      1.00        36\n",
      "                               Migraine       1.00      1.00      1.00        50\n",
      "                        Osteoarthristis       1.00      1.00      1.00        40\n",
      "           Paralysis (brain hemorrhage)       1.00      1.00      1.00        43\n",
      "                    Peptic ulcer diseae       1.00      1.00      1.00        44\n",
      "                              Pneumonia       1.00      1.00      1.00        37\n",
      "                              Psoriasis       1.00      1.00      1.00        33\n",
      "                           Tuberculosis       1.00      1.00      1.00        40\n",
      "                                Typhoid       1.00      1.00      1.00        44\n",
      "                Urinary tract infection       1.00      1.00      1.00        38\n",
      "                         Varicose veins       1.00      1.00      1.00        41\n",
      "                            hepatitis A       1.00      1.00      1.00        43\n",
      "\n",
      "                            avg / total       1.00      1.00      1.00      1624\n",
      "\n"
     ]
    },
    {
     "data": {
      "text/plain": [
       "1.0"
      ]
     },
     "execution_count": 79,
     "metadata": {},
     "output_type": "execute_result"
    }
   ],
   "source": [
    "y_pred_mnb = mnb.predict(x_test_man)\n",
    "print(classification_report(y_test_man ,y_pred_mnb))\n",
    "#print(confusion_matrix(testy ,y_pred_mnb))\n",
    "mnb.score(x_test_man, y_test_man)"
   ]
  },
  {
   "cell_type": "markdown",
   "metadata": {},
   "source": [
    "# Training a Decision Tree Classifier"
   ]
  },
  {
   "cell_type": "code",
   "execution_count": 80,
   "metadata": {},
   "outputs": [],
   "source": [
    "from sklearn.tree import DecisionTreeClassifier, export_graphviz"
   ]
  },
  {
   "cell_type": "code",
   "execution_count": 81,
   "metadata": {},
   "outputs": [
    {
     "name": "stdout",
     "output_type": "stream",
     "text": [
      "DecisionTree\n",
      "Acurracy:  1.0\n",
      "Training Score =  1.0\n",
      "Testing Score =  1.0\n"
     ]
    }
   ],
   "source": [
    "print (\"DecisionTree\")\n",
    "clf_dt = DecisionTreeClassifier(random_state = 42)\n",
    "clf_dt.fit(x_train_man,y_train_man)\n",
    "print (\"Acurracy: \", clf_dt.score(x_test_man,y_test_man))\n",
    "print(\"Training Score = \",clf_dt.score(x_train_man,y_train_man))\n",
    "print(\"Testing Score = \" ,clf_dt.score(x_test_man,y_test_man))"
   ]
  },
  {
   "cell_type": "code",
   "execution_count": 82,
   "metadata": {},
   "outputs": [
    {
     "name": "stdout",
     "output_type": "stream",
     "text": [
      "Accuracy score using Random Forest Classifier =  1.0\n",
      "Training Score =  1.0\n",
      "Testing Score =  1.0\n"
     ]
    }
   ],
   "source": [
    "#using  raondom forest\n",
    "clfRF = RandomForestClassifier(random_state = 0, criterion='gini',n_estimators = 500,max_features = 5,max_depth = 12)\n",
    "clfRF.fit(x_train_man ,y_train_man)\n",
    "Y_pred_RF_man = clfRF.predict(x_test_man)\n",
    "\n",
    "print(\"Accuracy score using Random Forest Classifier = \",accuracy_score(y_true = y_test_man, y_pred = Y_pred_RF_man))\n",
    "\n",
    "print(\"Training Score = \",clfRF.score(x_train_man,y_train_man))\n",
    "print(\"Testing Score = \" ,clfRF.score(x_test_man,y_test_man))"
   ]
  },
  {
   "cell_type": "code",
   "execution_count": null,
   "metadata": {},
   "outputs": [],
   "source": []
  },
  {
   "cell_type": "markdown",
   "metadata": {},
   "source": [
    "# Training a KNN Classifier"
   ]
  },
  {
   "cell_type": "code",
   "execution_count": 83,
   "metadata": {},
   "outputs": [
    {
     "name": "stdout",
     "output_type": "stream",
     "text": [
      "Accuracy score using KNN Classifier =  1.0\n",
      "Training Score =  1.0\n",
      "Testing Score =  1.0\n"
     ]
    }
   ],
   "source": [
    "from sklearn.svm import SVC\n",
    "clfKNN = KNeighborsClassifier(n_neighbors = 9)\n",
    "\n",
    "clfKNN.fit(x_train_man ,y_train_man)\n",
    "Y_pred_KNN = clfKNN.predict(x_test_man)\n",
    "\n",
    "print(\"Accuracy score using KNN Classifier = \",accuracy_score(y_true = y_test_man, y_pred = Y_pred_KNN))\n",
    "\n",
    "print(\"Training Score = \",clfKNN.score(x_train_man,y_train_man))\n",
    "print(\"Testing Score = \" ,clfKNN.score(x_test_man,y_test_man))"
   ]
  },
  {
   "cell_type": "code",
   "execution_count": 84,
   "metadata": {},
   "outputs": [
    {
     "name": "stdout",
     "output_type": "stream",
     "text": [
      "K Value      Score \n",
      "1         1.0\n",
      "3         1.0\n",
      "5         1.0\n",
      "7         1.0\n",
      "9         1.0\n",
      "11         1.0\n",
      "13         1.0\n",
      "\n",
      "Best Score at optimal value of K =  1.0\n"
     ]
    },
    {
     "data": {
      "image/png": "[encoded data removed]",
      "text/plain": [
       "<Figure size 432x288 with 1 Axes>"
      ]
     },
     "metadata": {},
     "output_type": "display_data"
    }
   ],
   "source": [
    "X_axis = []\n",
    "Y_axis = []\n",
    "\n",
    "print(\"K Value      Score \")\n",
    "for i in range(1,15,2):\n",
    "    clf = KNeighborsClassifier(n_neighbors = i)\n",
    "    X_axis.append(i)\n",
    "    score = cross_val_score(clf,x_test_man ,Y_pred_KNN)\n",
    "    Y_axis.append(score.mean())\n",
    "    print(i,\"       \",score.mean())\n",
    "    \n",
    "Best_K_Value = max(Y_axis)\n",
    "print(\"\\nBest Score at optimal value of K = \" ,Best_K_Value)\n",
    "\n",
    "import matplotlib.pyplot as plt\n",
    "plt.plot(X_axis,Y_axis)\n",
    "plt.show()"
   ]
  },
  {
   "cell_type": "code",
   "execution_count": 85,
   "metadata": {},
   "outputs": [],
   "source": [
    "accuracy3 = []\n",
    "accuracy4 = []\n",
    "\n",
    "# list of algorithms names\n",
    "classifiers = ['SVM','Decision Trees','KNN','Naive Bayes' ]\n",
    "\n",
    "# list of algorithms with parameters\n",
    "models_man =  [SVC(C =  5,kernel = 'sigmoid') ,DecisionTreeClassifier(random_state = 42),KNeighborsClassifier(n_neighbors = 9),GaussianNB()]\n",
    "\n",
    "for i in models_man:\n",
    "    model_man = i\n",
    "    model_man.fit(x_train_man, y_train_man)\n",
    "    y_predd_man = model_man.predict(x_test_man)\n",
    "    score_test = model_man.score(x_test_man, y_test_man)\n",
    "    score_train = model_man.score(x_train_man, y_train_man)\n",
    "    accuracy3.append(score_test)\n",
    "    accuracy4.append(score_train)\n",
    "\n"
   ]
  },
  {
   "cell_type": "code",
   "execution_count": 86,
   "metadata": {},
   "outputs": [
    {
     "data": {
      "text/html": [
       "<div>\n",
       "<style scoped>\n",
       "    .dataframe tbody tr th:only-of-type {\n",
       "        vertical-align: middle;\n",
       "    }\n",
       "\n",
       "    .dataframe tbody tr th {\n",
       "        vertical-align: top;\n",
       "    }\n",
       "\n",
       "    .dataframe thead th {\n",
       "        text-align: right;\n",
       "    }\n",
       "</style>\n",
       "<table border=\"1\" class=\"dataframe\">\n",
       "  <thead>\n",
       "    <tr style=\"text-align: right;\">\n",
       "      <th></th>\n",
       "      <th>test_accuracy</th>\n",
       "      <th>train_accuracy</th>\n",
       "    </tr>\n",
       "  </thead>\n",
       "  <tbody>\n",
       "    <tr>\n",
       "      <th>SVM</th>\n",
       "      <td>1.0</td>\n",
       "      <td>1.0</td>\n",
       "    </tr>\n",
       "    <tr>\n",
       "      <th>Decision Trees</th>\n",
       "      <td>1.0</td>\n",
       "      <td>1.0</td>\n",
       "    </tr>\n",
       "    <tr>\n",
       "      <th>KNN</th>\n",
       "      <td>1.0</td>\n",
       "      <td>1.0</td>\n",
       "    </tr>\n",
       "    <tr>\n",
       "      <th>Naive Bayes</th>\n",
       "      <td>1.0</td>\n",
       "      <td>1.0</td>\n",
       "    </tr>\n",
       "  </tbody>\n",
       "</table>\n",
       "</div>"
      ],
      "text/plain": [
       "                test_accuracy  train_accuracy\n",
       "SVM                       1.0             1.0\n",
       "Decision Trees            1.0             1.0\n",
       "KNN                       1.0             1.0\n",
       "Naive Bayes               1.0             1.0"
      ]
     },
     "execution_count": 86,
     "metadata": {},
     "output_type": "execute_result"
    }
   ],
   "source": [
    "# printing the Algorithms and corresponding Accuracy\n",
    "summary = pd.DataFrame({'test_accuracy':accuracy3,'train_accuracy':accuracy4}, index=classifiers)       \n",
    "summary"
   ]
  },
  {
   "cell_type": "code",
   "execution_count": null,
   "metadata": {},
   "outputs": [],
   "source": []
  },
  {
   "cell_type": "code",
   "execution_count": null,
   "metadata": {},
   "outputs": [],
   "source": []
  }
 ],
 "metadata": {
  "kernelspec": {
   "display_name": "Python 3",
   "language": "python",
   "name": "python3"
  },
  "language_info": {
   "codemirror_mode": {
    "name": "ipython",
    "version": 3
   },
   "file_extension": ".py",
   "mimetype": "text/x-python",
   "name": "python",
   "nbconvert_exporter": "python",
   "pygments_lexer": "ipython3",
   "version": "3.6.5"
  }
 },
 "nbformat": 4,
 "nbformat_minor": 2
}
